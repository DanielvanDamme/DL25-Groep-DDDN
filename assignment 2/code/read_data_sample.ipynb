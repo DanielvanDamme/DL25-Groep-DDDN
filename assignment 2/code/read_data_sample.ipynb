{
 "cells": [
  {
   "cell_type": "markdown",
   "metadata": {},
   "source": [
    "# Example usage of reading in data\n",
    "To read in data there are two functions namely \"get_dataset_name\" and \"read_data\". The first is used to obtain the file paths to the options you want. The latter uses as a parameter the output of the former to obtain a list of numpy arrays. "
   ]
  },
  {
   "cell_type": "code",
   "execution_count": 27,
   "metadata": {},
   "outputs": [
    {
     "name": "stdout",
     "output_type": "stream",
     "text": [
      "Available typeData options:\n"
     ]
    },
    {
     "data": {
      "text/plain": [
       "['Cross', 'Intra']"
      ]
     },
     "execution_count": 27,
     "metadata": {},
     "output_type": "execute_result"
    }
   ],
   "source": [
    "import sys\n",
    "import os\n",
    "\n",
    "# Ensure the code folder is in the Python path\n",
    "sys.path.append(os.path.abspath('.'))\n",
    "\n",
    "from read_data import get_dataset_name, read_data\n",
    "\n",
    "# List available typeData options\n",
    "get_dataset_name()"
   ]
  },
  {
   "cell_type": "code",
   "execution_count": 28,
   "metadata": {},
   "outputs": [
    {
     "name": "stdout",
     "output_type": "stream",
     "text": [
      "Available taskType options:\n"
     ]
    },
    {
     "data": {
      "text/plain": [
       "['rest', 'task_motor', 'task_story_math', 'task_working_memo']"
      ]
     },
     "execution_count": 28,
     "metadata": {},
     "output_type": "execute_result"
    }
   ],
   "source": [
    "# List task types under for example \"Cross\"\n",
    "get_dataset_name(typeData=\"Cross\")"
   ]
  },
  {
   "cell_type": "code",
   "execution_count": 29,
   "metadata": {},
   "outputs": [
    {
     "name": "stdout",
     "output_type": "stream",
     "text": [
      "Available subject identifiers:\n"
     ]
    },
    {
     "data": {
      "text/plain": [
       "['113922', '164636', 'all']"
      ]
     },
     "execution_count": 29,
     "metadata": {},
     "output_type": "execute_result"
    }
   ],
   "source": [
    "\n",
    "# List subject identifiers for a given typeData and taskType\n",
    "get_dataset_name(typeData=\"Cross\", taskType=\"rest\")"
   ]
  },
  {
   "cell_type": "code",
   "execution_count": 30,
   "metadata": {},
   "outputs": [],
   "source": [
    "# Get list of file paths for a subject\n",
    "paths = get_dataset_name(file_name=\"113922\", taskType=\"rest\", typeData=\"Cross\")\n",
    "\n",
    "# Read data\n",
    "if paths:\n",
    "    subject_data = read_data(paths)"
   ]
  },
  {
   "cell_type": "code",
   "execution_count": 31,
   "metadata": {},
   "outputs": [],
   "source": [
    "test1 = subject_data['113922'][0] # Access chunk 0 from test subject"
   ]
  }
 ],
 "metadata": {
  "kernelspec": {
   "display_name": "venv",
   "language": "python",
   "name": "python3"
  },
  "language_info": {
   "codemirror_mode": {
    "name": "ipython",
    "version": 3
   },
   "file_extension": ".py",
   "mimetype": "text/x-python",
   "name": "python",
   "nbconvert_exporter": "python",
   "pygments_lexer": "ipython3",
   "version": "3.12.3"
  }
 },
 "nbformat": 4,
 "nbformat_minor": 2
}
