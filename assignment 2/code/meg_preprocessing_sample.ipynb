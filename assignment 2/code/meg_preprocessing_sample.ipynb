{
 "cells": [
  {
   "cell_type": "markdown",
   "metadata": {},
   "source": [
    "# Preprocessing\n",
    "The steps performed here are Detrending and DC Offset removal. I find online that MEG devices introduce a \"slow drift\" or offset in the signal. This can be seen when plotted (the shape of the signal) when the signal drifts off and is not centered around 0 but higher or lower etc... This first step removes trends and makes it oscillate around 0. \n",
    "\n",
    "Then there is bandpass filtering. Brain activity supposedly is in certain frequency bands. Flow or fast frequencies are likely just noise and not actual brain activity. Se we filter those signals only within specific frequency bands.\n",
    "\n",
    "Z-score normalisation (per channel) is done because the channels all have different absolute amplitudes, but we are interested in relative changes. So we make it so that every channel has zero mean and unit variance. So they will all contribute equally to machine learning."
   ]
  },
  {
   "cell_type": "code",
   "execution_count": null,
   "metadata": {},
   "outputs": [],
   "source": [
    "import sys\n",
    "import os\n",
    "import numpy\n",
    "\n",
    "# Ensure the code folder is in the Python path\n",
    "sys.path.append(os.path.abspath('.'))\n",
    "\n",
    "from read_data import get_dataset_name_train, load_split_files\n",
    "from meg_preprocessing import preprocess_meg, plot_meg_signals\n",
    "\n",
    "# Get list of file paths for a subject\n",
    "paths = get_dataset_name_train(file_name=\"113922\", taskType=\"rest\", typeData=\"Cross\")\n",
    "\n",
    "print(paths)\n",
    "\n",
    "# Read data\n",
    "if paths:\n",
    "    subject_datas = load_split_files(paths)\n",
    "\n",
    "file_names = list((subject_datas.keys()))\n",
    "file_names.sort()\n",
    "\n",
    "concatenated_data_rest_113922 = numpy.concatenate(\n",
    "    [subject_datas[file_name] for file_name in file_names],\n",
    "    axis=1)\n",
    "\n",
    "# Run everything\n",
    "data_raw = concatenated_data_rest_113922  # Concatenated and loaded\n",
    "data_clean = preprocess_meg(numpy.copy(data_raw))\n",
    "\n",
    "print(\"Making some example graphs to see the shape of the raw and processed data.\")\n",
    "plot_meg_signals(data_raw, data_clean, channels= range(1,10), fs=2034)\n"
   ]
  }
 ],
 "metadata": {
  "kernelspec": {
   "display_name": "venv",
   "language": "python",
   "name": "python3"
  },
  "language_info": {
   "codemirror_mode": {
    "name": "ipython",
    "version": 3
   },
   "file_extension": ".py",
   "mimetype": "text/x-python",
   "name": "python",
   "nbconvert_exporter": "python",
   "pygments_lexer": "ipython3",
   "version": "3.12.3"
  }
 },
 "nbformat": 4,
 "nbformat_minor": 2
}
