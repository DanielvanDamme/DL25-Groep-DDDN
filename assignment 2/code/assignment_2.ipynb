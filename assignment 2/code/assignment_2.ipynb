{
 "cells": [
  {
   "cell_type": "markdown",
   "id": "d2c9752d",
   "metadata": {},
   "source": [
    "The data extraction was based on the provided code, with slight adjustments for where we decided to store the downloaded data:"
   ]
  },
  {
   "cell_type": "code",
   "execution_count": 2,
   "id": "ba0f61d1",
   "metadata": {},
   "outputs": [],
   "source": [
    "from typing import Iterator\n",
    "\n",
    "import numpy as np\n",
    "import h5py\n",
    "import os\n",
    "\n",
    "DATA_PATH = os.path.abspath(\"../extracted_zip_in_here/Final Project data/\")\n",
    "INTRA_TRAIN_FOLDER = os.path.join(DATA_PATH, os.path.relpath(\"./Intra/train/\"))\n",
    "INTRA_TEST_FOLDER = os.path.join(DATA_PATH, os.path.relpath(\"./Intra/test/\"))\n",
    "\n",
    "def get_dataset_name(filename_with_dir):\n",
    "    filename_without_dir = os.path.basename(filename_with_dir)\n",
    "    temp = filename_without_dir.split('.')[:-1]\n",
    "    dataset_name = ''.join(temp)\n",
    "    temp = dataset_name.split('_')[:-1]\n",
    "    dataset_name = \"_\".join(temp)\n",
    "    return dataset_name\n",
    "\n",
    "\n",
    "def extract_data_from_folder_by_file(folder_path, shuffle=False):\n",
    "    files = os.listdir(folder_path)\n",
    "    if shuffle:\n",
    "        np.random.shuffle(files)\n",
    "\n",
    "    for file_name in files:\n",
    "        \n",
    "        filename_path = os.path.join(folder_path, file_name)\n",
    "        \n",
    "        with h5py.File(filename_path, 'r') as f:\n",
    "            dataset_name = get_dataset_name(filename_path)\n",
    "            matrix = f.get(dataset_name)[()]\n",
    "            yield dataset_name, matrix"
   ]
  },
  {
   "cell_type": "markdown",
   "id": "3649d7e5",
   "metadata": {},
   "source": [
    "We first have to scale the data across different files in the same way, so we have to scan the files and find min max to perform the scaling"
   ]
  },
  {
   "cell_type": "code",
   "execution_count": 2,
   "id": "e5bf681c",
   "metadata": {},
   "outputs": [],
   "source": [
    "def learn_minmax_from_all_files(folder_path: str) -> tuple:\n",
    "    # Placeholders\n",
    "    min_val = None\n",
    "    max_val = None\n",
    "\n",
    "    for (name, data) in extract_data_from_folder_by_file(folder_path):\n",
    "        data = data.T\n",
    "        if min_val is None:\n",
    "            min_val = np.min(data, axis=0)\n",
    "            max_val = np.max(data, axis=0)\n",
    "        else:\n",
    "            # Update min_val and max_val\n",
    "            min_val = np.minimum(min_val, np.min(data, axis=0))\n",
    "            max_val = np.maximum(max_val, np.max(data, axis=0))\n",
    "        \n",
    "    return min_val, max_val\n",
    "\n",
    "def scale_data(data: np.ndarray, min_val: np.ndarray, max_val: np.ndarray) -> np.ndarray:\n",
    "    # Scale the data to the range [0, 1]\n",
    "    return (data - min_val) / (max_val - min_val)"
   ]
  },
  {
   "cell_type": "code",
   "execution_count": null,
   "id": "5558f798",
   "metadata": {},
   "outputs": [],
   "source": [
    "min_val, max_val = learn_minmax_from_all_files(INTRA_TRAIN_FOLDER)\n",
    "print(f\"Min values: {min_val.shape}, Max values: {max_val.shape}\")"
   ]
  },
  {
   "cell_type": "markdown",
   "id": "410c45eb",
   "metadata": {},
   "source": [
    "Because of independent sampling, we can just sample each file independently and the same dropout should occur:"
   ]
  },
  {
   "cell_type": "code",
   "execution_count": 4,
   "id": "28617963",
   "metadata": {},
   "outputs": [],
   "source": [
    "def downsample(data: np.array, factor: float) -> np.array:\n",
    "    \"\"\"\n",
    "    Downsample time series data by uniformly selecting samples at fixed intervals\n",
    "    to keep the temporal order intact.\n",
    "\n",
    "    Args:\n",
    "        data (np.array): Input time series data (1D or 2D with time dimension as first axis)\n",
    "        factor (float): Downsampling factor (e.g., 0.5 means keep half the samples)\n",
    "\n",
    "    Returns:\n",
    "        np.array: Downsampled data with timesteps reduced by the factor\n",
    "    \"\"\"\n",
    "    num_samples = int(len(data) * factor)\n",
    "    # Calculate the stride to evenly pick samples\n",
    "    stride = len(data) / num_samples\n",
    "    # Use np.floor to avoid going out of bounds and convert to int indices\n",
    "    indices = (np.floor(np.arange(num_samples) * stride)).astype(int)\n",
    "    downsampled_data = data[indices]\n",
    "    return downsampled_data"
   ]
  },
  {
   "cell_type": "markdown",
   "id": "0b7cc899",
   "metadata": {},
   "source": [
    "Here we can set the downsample factor for all sampling"
   ]
  },
  {
   "cell_type": "code",
   "execution_count": 5,
   "id": "9c75352f",
   "metadata": {},
   "outputs": [],
   "source": [
    "DOWNSAMPLE_FACTOR = 0.3"
   ]
  },
  {
   "cell_type": "markdown",
   "id": "41edf396",
   "metadata": {},
   "source": [
    "Here, we define the preprocessing steps that we apply to all data after reading it from the file:"
   ]
  },
  {
   "cell_type": "code",
   "execution_count": 6,
   "id": "3aa81762",
   "metadata": {},
   "outputs": [],
   "source": [
    "preprocessing_pipeline = [\n",
    "    lambda x: scale_data(x, min_val, max_val), \n",
    "    lambda x: downsample(x, DOWNSAMPLE_FACTOR)\n",
    "]"
   ]
  },
  {
   "cell_type": "markdown",
   "id": "48f79afc",
   "metadata": {},
   "source": [
    "We should also create labels based on the file names:"
   ]
  },
  {
   "cell_type": "code",
   "execution_count": 7,
   "id": "a0ae138b",
   "metadata": {},
   "outputs": [],
   "source": [
    "def generate_label(file_name:str) -> np.ndarray:\n",
    "    # Return a one-hot encoded label based on the file name, there are4 classes\n",
    "    # 0: rest\n",
    "    if \"rest_\" in file_name:\n",
    "        return np.array([1, 0, 0, 0])\n",
    "    # 1: task_motor\n",
    "    elif \"task_motor_\" in file_name:\n",
    "        return np.array([0, 1, 0, 0])\n",
    "    # 2: task_story_math\n",
    "    elif \"task_story_math_\" in file_name:\n",
    "        return np.array([0, 0, 1, 0])\n",
    "    # 3: task_working_memory\n",
    "    elif \"task_working_memory_\" in file_name:\n",
    "        return np.array([0, 0, 0, 1])\n",
    "    else:\n",
    "        raise ValueError(f\"Unknown file name: {file_name}\")"
   ]
  },
  {
   "cell_type": "markdown",
   "id": "5b2de89b",
   "metadata": {},
   "source": [
    "To create batches by number of files, we can use a generator like this:"
   ]
  },
  {
   "cell_type": "code",
   "execution_count": 4,
   "id": "2f7f9611",
   "metadata": {},
   "outputs": [],
   "source": [
    "def create_batches(folder, number_of_files_per_batch: int, preprocessing_pipeline: list = None, shuffle_files=False) -> Iterator[tuple]:\n",
    "    batch_data = []\n",
    "    batch_labels = []\n",
    "    for n, (name, data) in enumerate(extract_data_from_folder_by_file(folder, shuffle=shuffle_files)):\n",
    "        data = data.T\n",
    "        if preprocessing_pipeline:\n",
    "            for preprocessing_step in preprocessing_pipeline:\n",
    "                data = preprocessing_step(data)\n",
    "        # Add the preprocessed data to the batch\n",
    "        batch_data.append(data)\n",
    "\n",
    "        # Generate the label matrix of the length of the data for the current file\n",
    "        label_vector = generate_label(name)\n",
    "        batch_labels.append(label_vector)\n",
    "\n",
    "\n",
    "        # Check if we have reached the desired batch size\n",
    "        if (n + 1) % number_of_files_per_batch == 0:\n",
    "            # Stack along the first axis (like a batch dimension)\n",
    "            yield (batch_data, batch_labels)\n",
    "            batch_data = []\n",
    "            batch_labels = []\n",
    "\n",
    "    # Optional: yield the remainder if not divisible\n",
    "    if batch_data:\n",
    "        yield (batch_data, batch_labels)"
   ]
  },
  {
   "cell_type": "code",
   "execution_count": null,
   "id": "c33eecb1",
   "metadata": {},
   "outputs": [],
   "source": [
    "# Example usage\n",
    "for data_batch, labels_batch in create_batches(folder=INTRA_TRAIN_FOLDER, number_of_files_per_batch=8, preprocessing_pipeline=preprocessing_pipeline, shuffle_files=False):\n",
    "    \n",
    "    for data, label in zip(data_batch, labels_batch):\n",
    "        print(f\"Data shape: {data.shape}, Label: {label}\")\n",
    "\n"
   ]
  },
  {
   "cell_type": "markdown",
   "id": "bac02c17",
   "metadata": {},
   "source": [
    "## Training"
   ]
  },
  {
   "cell_type": "markdown",
   "id": "c2de527f",
   "metadata": {},
   "source": [
    "### Model definition"
   ]
  },
  {
   "cell_type": "code",
   "execution_count": null,
   "id": "87683b0e",
   "metadata": {},
   "outputs": [],
   "source": [
    "import random\n",
    "from tensorflow.keras.models import Sequential\n",
    "from tensorflow.keras.layers import LSTM, Dense\n",
    "from tensorflow.keras.losses import CategoricalCrossentropy\n",
    "from tensorflow.keras.optimizers import Adam\n",
    "\n",
    "FEATURES = 248\n",
    "TIMESTEPS = 3562\n",
    "CLASSES = 4\n",
    "\n",
    "\n",
    "lstm_classifier = Sequential([\n",
    "    LSTM(64, return_sequences=False, input_shape=(3562, 248)),\n",
    "    Dense(64, activation='relu'),\n",
    "    Dense(4, activation='softmax')\n",
    "])\n",
    "\n",
    "lstm_classifier.compile(\n",
    "    loss=CategoricalCrossentropy(),  # works directly with one-hot encoded labels\n",
    "    optimizer=Adam(),\n",
    "    metrics=['accuracy']\n",
    ")\n",
    "\n",
    "\n"
   ]
  },
  {
   "cell_type": "markdown",
   "id": "4e283a28",
   "metadata": {},
   "source": [
    "### Trainingloop"
   ]
  },
  {
   "cell_type": "code",
   "execution_count": 11,
   "id": "2de4a3dc",
   "metadata": {},
   "outputs": [],
   "source": [
    "def train_model(model, epochs=10, batch_size=8, verbose=1):\n",
    "    for epoch in range(epochs):\n",
    "        if verbose:\n",
    "            print(f\"Epoch: {epoch}\")\n",
    "        for batch, (batch_X_list, batch_y_list) in enumerate(create_batches(folder=INTRA_TRAIN_FOLDER, number_of_files_per_batch=batch_size, preprocessing_pipeline=preprocessing_pipeline, shuffle_files=True)):\n",
    "            # Convert the list of arrays to a 3D numpy array\n",
    "            data = np.array(batch_X_list)\n",
    "            labels = np.array(batch_y_list)\n",
    "\n",
    "            # Shuffle the data and labels together\n",
    "            indices = np.arange(data.shape[0])\n",
    "            np.random.shuffle(indices)\n",
    "            data = data[indices]\n",
    "            labels = labels[indices]\n",
    "            \n",
    "            # Train the model\n",
    "            model.fit(data, labels)\n",
    "            \n",
    "            # Evaluate the model\n",
    "            loss, accuracy = model.evaluate(data, labels)\n",
    "            if verbose:\n",
    "                print(f\"Batch: {batch}, Loss: {loss}, Accuracy: {accuracy}\")\n",
    "    \n",
    "    return model"
   ]
  },
  {
   "cell_type": "markdown",
   "id": "6e0816f7",
   "metadata": {},
   "source": [
    "## Training"
   ]
  },
  {
   "cell_type": "code",
   "execution_count": null,
   "id": "63cc7294",
   "metadata": {},
   "outputs": [],
   "source": [
    "trained_lstm_classifier = train_model(lstm_classifier, epochs=10, batch_size=8, verbose=1)"
   ]
  },
  {
   "cell_type": "code",
   "execution_count": 13,
   "id": "af777f4d",
   "metadata": {},
   "outputs": [],
   "source": [
    "def evaluate_scores(model, folder_to_evaluate):\n",
    "    losses = []\n",
    "    accuracies = []\n",
    "    for batch_X_list, batch_y_list in create_batches(folder=folder_to_evaluate, number_of_files_per_batch=8, preprocessing_pipeline=preprocessing_pipeline, shuffle_files=False):\n",
    "        # Convert the list of arrays to a 3D numpy array\n",
    "        data = np.array(batch_X_list)\n",
    "        labels = np.array(batch_y_list)\n",
    "        \n",
    "        # Evaluate the model\n",
    "        loss, accuracy = model.evaluate(data, labels)\n",
    "        losses.append(loss)\n",
    "        accuracies.append(accuracy)\n",
    "    return np.mean(losses), np.mean(accuracies)"
   ]
  },
  {
   "cell_type": "code",
   "execution_count": null,
   "id": "c2428aa2",
   "metadata": {},
   "outputs": [],
   "source": [
    "loss, accuracy = evaluate_scores(trained_lstm_classifier, INTRA_TRAIN_FOLDER)\n",
    "print(f\"Loss: {loss}, Accuracy: {accuracy}\")"
   ]
  },
  {
   "cell_type": "markdown",
   "id": "f0934f51",
   "metadata": {},
   "source": [
    "## Testing"
   ]
  },
  {
   "cell_type": "code",
   "execution_count": null,
   "id": "62a8a778",
   "metadata": {},
   "outputs": [],
   "source": [
    "loss, accuracy = evaluate_scores(trained_lstm_classifier, INTRA_TEST_FOLDER)\n",
    "print(f\"Loss: {loss}, Accuracy: {accuracy}\")"
   ]
  },
  {
   "cell_type": "code",
   "execution_count": null,
   "id": "07e48e32",
   "metadata": {},
   "outputs": [],
   "source": []
  }
 ],
 "metadata": {
  "kernelspec": {
   "display_name": "venv",
   "language": "python",
   "name": "python3"
  },
  "language_info": {
   "codemirror_mode": {
    "name": "ipython",
    "version": 3
   },
   "file_extension": ".py",
   "mimetype": "text/x-python",
   "name": "python",
   "nbconvert_exporter": "python",
   "pygments_lexer": "ipython3",
   "version": "3.12.3"
  }
 },
 "nbformat": 4,
 "nbformat_minor": 5
}
