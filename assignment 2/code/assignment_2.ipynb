{
 "cells": [
  {
   "cell_type": "markdown",
   "id": "d2c9752d",
   "metadata": {},
   "source": [
    "The data extraction was based on the provided code, with slight adjustments for where we decided to store the downloaded data:"
   ]
  },
  {
   "cell_type": "code",
   "execution_count": 158,
   "id": "ba0f61d1",
   "metadata": {},
   "outputs": [],
   "source": [
    "from typing import Iterator\n",
    "\n",
    "import numpy as np\n",
    "import h5py\n",
    "import os\n",
    "\n",
    "DATA_PATH = os.path.abspath(\"../extracted_zip_in_here/Final Project data/\")\n",
    "INTRA_TRAIN_FOLDER = os.path.join(DATA_PATH, os.path.relpath(\"./Intra/train/\"))\n",
    "\n",
    "def get_dataset_name(filename_with_dir):\n",
    "    filename_without_dir = os.path.basename(filename_with_dir)\n",
    "    temp = filename_without_dir.split('.')[:-1]\n",
    "    dataset_name = ''.join(temp)\n",
    "    temp = dataset_name.split('_')[:-1]\n",
    "    dataset_name = \"_\".join(temp)\n",
    "    return dataset_name\n",
    "\n",
    "\n",
    "def extract_data_from_folder_by_file(folder_path, shuffle=False):\n",
    "    files = os.listdir(folder_path)\n",
    "    if shuffle:\n",
    "        np.random.shuffle(files)\n",
    "\n",
    "    for file_name in files:\n",
    "        \n",
    "        filename_path = os.path.join(folder_path, file_name)\n",
    "        \n",
    "        with h5py.File(filename_path, 'r') as f:\n",
    "            dataset_name = get_dataset_name(filename_path)\n",
    "            matrix = f.get(dataset_name)[()]\n",
    "            yield dataset_name, matrix"
   ]
  },
  {
   "cell_type": "markdown",
   "id": "3649d7e5",
   "metadata": {},
   "source": [
    "We first have to scale the data across different files in the same way, so we have to scan the files and find min max to perform the scaling"
   ]
  },
  {
   "cell_type": "code",
   "execution_count": 159,
   "id": "e5bf681c",
   "metadata": {},
   "outputs": [],
   "source": [
    "def learn_minmax_from_all_files(folder_path: str) -> tuple:\n",
    "    # Placeholders\n",
    "    min_val = None\n",
    "    max_val = None\n",
    "\n",
    "    for (name, data) in extract_data_from_folder_by_file(folder_path):\n",
    "        data = data.T\n",
    "        if min_val is None:\n",
    "            min_val = np.min(data, axis=0)\n",
    "            max_val = np.max(data, axis=0)\n",
    "        else:\n",
    "            # Update min_val and max_val\n",
    "            min_val = np.minimum(min_val, np.min(data, axis=0))\n",
    "            max_val = np.maximum(max_val, np.max(data, axis=0))\n",
    "        \n",
    "    return min_val, max_val\n",
    "\n",
    "def scale_data(data: np.ndarray, min_val: np.ndarray, max_val: np.ndarray) -> np.ndarray:\n",
    "    # Scale the data to the range [0, 1]\n",
    "    return (data - min_val) / (max_val - min_val)"
   ]
  },
  {
   "cell_type": "code",
   "execution_count": 160,
   "id": "5558f798",
   "metadata": {},
   "outputs": [
    {
     "name": "stdout",
     "output_type": "stream",
     "text": [
      "Min values: (248,), Max values: (248,)\n"
     ]
    }
   ],
   "source": [
    "min_val, max_val = learn_minmax_from_all_files(INTRA_TRAIN_FOLDER)\n",
    "print(f\"Min values: {min_val.shape}, Max values: {max_val.shape}\")"
   ]
  },
  {
   "cell_type": "markdown",
   "id": "410c45eb",
   "metadata": {},
   "source": [
    "Because of independent sampling, we can just sample each file independently and the same dropout should occur:"
   ]
  },
  {
   "cell_type": "code",
   "execution_count": 161,
   "id": "28617963",
   "metadata": {},
   "outputs": [],
   "source": [
    "def downsample(data: np.array, factor: float) -> np.array:\n",
    "    \"\"\"\n",
    "    Downsample time series data by uniformly selecting samples at fixed intervals\n",
    "    to keep the temporal order intact.\n",
    "\n",
    "    Args:\n",
    "        data (np.array): Input time series data (1D or 2D with time dimension as first axis)\n",
    "        factor (float): Downsampling factor (e.g., 0.5 means keep half the samples)\n",
    "\n",
    "    Returns:\n",
    "        np.array: Downsampled data with timesteps reduced by the factor\n",
    "    \"\"\"\n",
    "    num_samples = int(len(data) * factor)\n",
    "    # Calculate the stride to evenly pick samples\n",
    "    stride = len(data) / num_samples\n",
    "    # Use np.floor to avoid going out of bounds and convert to int indices\n",
    "    indices = (np.floor(np.arange(num_samples) * stride)).astype(int)\n",
    "    downsampled_data = data[indices]\n",
    "    return downsampled_data"
   ]
  },
  {
   "cell_type": "markdown",
   "id": "0b7cc899",
   "metadata": {},
   "source": [
    "Here we can set the downsample factor for all sampling"
   ]
  },
  {
   "cell_type": "code",
   "execution_count": 162,
   "id": "9c75352f",
   "metadata": {},
   "outputs": [],
   "source": [
    "DOWNSAMPLE_FACTOR = 0.1"
   ]
  },
  {
   "cell_type": "markdown",
   "id": "41edf396",
   "metadata": {},
   "source": [
    "Here, we define the preprocessing steps that we apply to all data after reading it from the file:"
   ]
  },
  {
   "cell_type": "code",
   "execution_count": 163,
   "id": "3aa81762",
   "metadata": {},
   "outputs": [],
   "source": [
    "preprocessing_pipeline = [\n",
    "    lambda x: scale_data(x, min_val, max_val), \n",
    "    lambda x: downsample(x, DOWNSAMPLE_FACTOR)\n",
    "]"
   ]
  },
  {
   "cell_type": "markdown",
   "id": "48f79afc",
   "metadata": {},
   "source": [
    "We should also create labels based on the file names:"
   ]
  },
  {
   "cell_type": "code",
   "execution_count": 164,
   "id": "a0ae138b",
   "metadata": {},
   "outputs": [],
   "source": [
    "def generate_label(file_name:str) -> np.ndarray:\n",
    "    # Return a one-hot encoded label based on the file name, there are4 classes\n",
    "    # 0: rest\n",
    "    if \"rest_\" in file_name:\n",
    "        return np.array([1, 0, 0, 0])\n",
    "    # 1: task_motor\n",
    "    elif \"task_motor_\" in file_name:\n",
    "        return np.array([0, 1, 0, 0])\n",
    "    # 2: task_story_math\n",
    "    elif \"task_story_math_\" in file_name:\n",
    "        return np.array([0, 0, 1, 0])\n",
    "    # 3: task_working_memory\n",
    "    elif \"task_working_memory_\" in file_name:\n",
    "        return np.array([0, 0, 0, 1])\n",
    "    else:\n",
    "        raise ValueError(f\"Unknown file name: {file_name}\")"
   ]
  },
  {
   "cell_type": "markdown",
   "id": "5b2de89b",
   "metadata": {},
   "source": [
    "To create batches by number of files, we can use a generator like this:"
   ]
  },
  {
   "cell_type": "code",
   "execution_count": 165,
   "id": "2f7f9611",
   "metadata": {},
   "outputs": [],
   "source": [
    "def create_batches(number_of_files_per_batch: int, preprocessing_pipeline: list = None, shuffle_files=False) -> Iterator[tuple]:\n",
    "    batch_data = []\n",
    "    batch_labels = []\n",
    "    for n, (name, data) in enumerate(extract_data_from_folder_by_file(INTRA_TRAIN_FOLDER, shuffle=shuffle_files)):\n",
    "        data = data.T\n",
    "        if preprocessing_pipeline:\n",
    "            for preprocessing_step in preprocessing_pipeline:\n",
    "                data = preprocessing_step(data)\n",
    "        # Add the preprocessed data to the batch\n",
    "        batch_data.append(data)\n",
    "\n",
    "        # Generate the label matrix of the length of the data for the current file\n",
    "        label_vector = generate_label(name)\n",
    "        batch_labels.append(label_vector)\n",
    "\n",
    "\n",
    "        # Check if we have reached the desired batch size\n",
    "        if (n + 1) % number_of_files_per_batch == 0:\n",
    "            # Stack along the first axis (like a batch dimension)\n",
    "            yield (batch_data, batch_labels)\n",
    "            batch_data = []\n",
    "            batch_labels = []\n",
    "\n",
    "    # Optional: yield the remainder if not divisible\n",
    "    if batch_data:\n",
    "        yield (batch_data, batch_labels)"
   ]
  },
  {
   "cell_type": "code",
   "execution_count": 166,
   "id": "c33eecb1",
   "metadata": {},
   "outputs": [
    {
     "name": "stdout",
     "output_type": "stream",
     "text": [
      "Data shape: (3562, 248), Label: [1 0 0 0]\n",
      "Data shape: (3562, 248), Label: [1 0 0 0]\n",
      "Data shape: (3562, 248), Label: [1 0 0 0]\n",
      "Data shape: (3562, 248), Label: [1 0 0 0]\n",
      "Data shape: (3562, 248), Label: [1 0 0 0]\n",
      "Data shape: (3562, 248), Label: [1 0 0 0]\n",
      "Data shape: (3562, 248), Label: [1 0 0 0]\n",
      "Data shape: (3562, 248), Label: [1 0 0 0]\n",
      "Data shape: (3562, 248), Label: [0 1 0 0]\n",
      "Data shape: (3562, 248), Label: [0 1 0 0]\n",
      "Data shape: (3562, 248), Label: [0 1 0 0]\n",
      "Data shape: (3562, 248), Label: [0 1 0 0]\n",
      "Data shape: (3562, 248), Label: [0 1 0 0]\n",
      "Data shape: (3562, 248), Label: [0 1 0 0]\n",
      "Data shape: (3562, 248), Label: [0 1 0 0]\n",
      "Data shape: (3562, 248), Label: [0 1 0 0]\n",
      "Data shape: (3562, 248), Label: [0 0 1 0]\n",
      "Data shape: (3562, 248), Label: [0 0 1 0]\n",
      "Data shape: (3562, 248), Label: [0 0 1 0]\n",
      "Data shape: (3562, 248), Label: [0 0 1 0]\n",
      "Data shape: (3562, 248), Label: [0 0 1 0]\n",
      "Data shape: (3562, 248), Label: [0 0 1 0]\n",
      "Data shape: (3562, 248), Label: [0 0 1 0]\n",
      "Data shape: (3562, 248), Label: [0 0 1 0]\n",
      "Data shape: (3562, 248), Label: [0 0 0 1]\n",
      "Data shape: (3562, 248), Label: [0 0 0 1]\n",
      "Data shape: (3562, 248), Label: [0 0 0 1]\n",
      "Data shape: (3562, 248), Label: [0 0 0 1]\n",
      "Data shape: (3562, 248), Label: [0 0 0 1]\n",
      "Data shape: (3562, 248), Label: [0 0 0 1]\n",
      "Data shape: (3562, 248), Label: [0 0 0 1]\n",
      "Data shape: (3562, 248), Label: [0 0 0 1]\n"
     ]
    }
   ],
   "source": [
    "# Example usage\n",
    "for data_batch, labels_batch in create_batches(number_of_files_per_batch=8, preprocessing_pipeline=preprocessing_pipeline, shuffle_files=False):\n",
    "    \n",
    "    for data, label in zip(data_batch, labels_batch):\n",
    "        print(f\"Data shape: {data.shape}, Label: {label}\")\n",
    "\n"
   ]
  },
  {
   "cell_type": "markdown",
   "id": "bac02c17",
   "metadata": {},
   "source": [
    "## Training"
   ]
  },
  {
   "cell_type": "markdown",
   "id": "993fe9f6",
   "metadata": {},
   "source": [
    "### Hyperparameters"
   ]
  },
  {
   "cell_type": "code",
   "execution_count": 167,
   "id": "7825ed23",
   "metadata": {},
   "outputs": [],
   "source": [
    "EPOCHS = []\n",
    "# TODO: which hyperparameters are we going to grid search?"
   ]
  },
  {
   "cell_type": "markdown",
   "id": "c2de527f",
   "metadata": {},
   "source": [
    "### Model definition"
   ]
  },
  {
   "cell_type": "code",
   "execution_count": 168,
   "id": "87683b0e",
   "metadata": {},
   "outputs": [
    {
     "name": "stderr",
     "output_type": "stream",
     "text": [
      "C:\\Users\\niek0\\AppData\\Local\\Packages\\PythonSoftwareFoundation.Python.3.11_qbz5n2kfra8p0\\LocalCache\\local-packages\\Python311\\site-packages\\keras\\src\\layers\\rnn\\rnn.py:200: UserWarning: Do not pass an `input_shape`/`input_dim` argument to a layer. When using Sequential models, prefer using an `Input(shape)` object as the first layer in the model instead.\n",
      "  super().__init__(**kwargs)\n"
     ]
    }
   ],
   "source": [
    "import random\n",
    "from tensorflow.keras.models import Sequential\n",
    "from tensorflow.keras.layers import LSTM, Dense\n",
    "from tensorflow.keras.losses import CategoricalCrossentropy\n",
    "from tensorflow.keras.optimizers import Adam\n",
    "\n",
    "FEATURES = 248\n",
    "TIMESTEPS = 3562\n",
    "CLASSES = 4\n",
    "\n",
    "\n",
    "lstm_classifier = Sequential([\n",
    "    LSTM(64, return_sequences=False, input_shape=(3562, 248)),\n",
    "    Dense(64, activation='relu'),\n",
    "    Dense(4, activation='softmax')\n",
    "])\n",
    "\n",
    "lstm_classifier.compile(\n",
    "    loss=CategoricalCrossentropy(),  # works directly with one-hot encoded labels\n",
    "    optimizer=Adam(),\n",
    "    metrics=['accuracy']\n",
    ")\n",
    "\n",
    "\n"
   ]
  },
  {
   "cell_type": "markdown",
   "id": "4e283a28",
   "metadata": {},
   "source": [
    "### Trainingloop"
   ]
  },
  {
   "cell_type": "code",
   "execution_count": 169,
   "id": "2de4a3dc",
   "metadata": {},
   "outputs": [],
   "source": [
    "def train_model(model, epochs=10, batch_size=8, verbose=1):\n",
    "    for epoch in range(epochs):\n",
    "        if verbose:\n",
    "            print(f\"Epoch: {epoch}\")\n",
    "        for batch, (batch_X_list, batch_y_list) in enumerate(create_batches(number_of_files_per_batch=batch_size, preprocessing_pipeline=preprocessing_pipeline, shuffle_files=True)):\n",
    "            # Convert the list of arrays to a 3D numpy array\n",
    "            data = np.array(batch_X_list)\n",
    "            labels = np.array(batch_y_list)\n",
    "\n",
    "            # Shuffle the data and labels together\n",
    "            indices = np.arange(data.shape[0])\n",
    "            np.random.shuffle(indices)\n",
    "            data = data[indices]\n",
    "            labels = labels[indices]\n",
    "            \n",
    "            # Train the model\n",
    "            model.fit(data, labels)\n",
    "            \n",
    "            # Evaluate the model\n",
    "            loss, accuracy = model.evaluate(data, labels)\n",
    "            if verbose:\n",
    "                print(f\"Batch: {batch}, Loss: {loss}, Accuracy: {accuracy}\")\n",
    "    \n",
    "    return model"
   ]
  },
  {
   "cell_type": "markdown",
   "id": "6e0816f7",
   "metadata": {},
   "source": [
    "## Training"
   ]
  },
  {
   "cell_type": "code",
   "execution_count": 170,
   "id": "63cc7294",
   "metadata": {},
   "outputs": [
    {
     "name": "stdout",
     "output_type": "stream",
     "text": [
      "Epoch: 0\n",
      "\u001b[1m1/1\u001b[0m \u001b[32m━━━━━━━━━━━━━━━━━━━━\u001b[0m\u001b[37m\u001b[0m \u001b[1m3s\u001b[0m 3s/step - accuracy: 0.1250 - loss: 1.4172\n",
      "\u001b[1m1/1\u001b[0m \u001b[32m━━━━━━━━━━━━━━━━━━━━\u001b[0m\u001b[37m\u001b[0m \u001b[1m3s\u001b[0m 3s/step - accuracy: 0.6250 - loss: 1.0185\n",
      "Batch: 0, Loss: 1.0184794664382935, Accuracy: 0.625\n",
      "\u001b[1m1/1\u001b[0m \u001b[32m━━━━━━━━━━━━━━━━━━━━\u001b[0m\u001b[37m\u001b[0m \u001b[1m1s\u001b[0m 723ms/step - accuracy: 0.5000 - loss: 1.3216\n",
      "\u001b[1m1/1\u001b[0m \u001b[32m━━━━━━━━━━━━━━━━━━━━\u001b[0m\u001b[37m\u001b[0m \u001b[1m0s\u001b[0m 240ms/step - accuracy: 0.6250 - loss: 1.1916\n",
      "Batch: 1, Loss: 1.1916171312332153, Accuracy: 0.625\n",
      "\u001b[1m1/1\u001b[0m \u001b[32m━━━━━━━━━━━━━━━━━━━━\u001b[0m\u001b[37m\u001b[0m \u001b[1m1s\u001b[0m 652ms/step - accuracy: 0.7500 - loss: 1.0934\n",
      "\u001b[1m1/1\u001b[0m \u001b[32m━━━━━━━━━━━━━━━━━━━━\u001b[0m\u001b[37m\u001b[0m \u001b[1m0s\u001b[0m 230ms/step - accuracy: 0.8750 - loss: 0.9300\n",
      "Batch: 2, Loss: 0.9300388693809509, Accuracy: 0.875\n",
      "\u001b[1m1/1\u001b[0m \u001b[32m━━━━━━━━━━━━━━━━━━━━\u001b[0m\u001b[37m\u001b[0m \u001b[1m1s\u001b[0m 645ms/step - accuracy: 0.5000 - loss: 1.2694\n",
      "\u001b[1m1/1\u001b[0m \u001b[32m━━━━━━━━━━━━━━━━━━━━\u001b[0m\u001b[37m\u001b[0m \u001b[1m0s\u001b[0m 216ms/step - accuracy: 0.5000 - loss: 1.1335\n",
      "Batch: 3, Loss: 1.133455753326416, Accuracy: 0.5\n",
      "Epoch: 1\n",
      "\u001b[1m1/1\u001b[0m \u001b[32m━━━━━━━━━━━━━━━━━━━━\u001b[0m\u001b[37m\u001b[0m \u001b[1m1s\u001b[0m 635ms/step - accuracy: 0.8750 - loss: 0.7974\n",
      "\u001b[1m1/1\u001b[0m \u001b[32m━━━━━━━━━━━━━━━━━━━━\u001b[0m\u001b[37m\u001b[0m \u001b[1m0s\u001b[0m 239ms/step - accuracy: 1.0000 - loss: 0.6921\n",
      "Batch: 0, Loss: 0.6921027302742004, Accuracy: 1.0\n",
      "\u001b[1m1/1\u001b[0m \u001b[32m━━━━━━━━━━━━━━━━━━━━\u001b[0m\u001b[37m\u001b[0m \u001b[1m1s\u001b[0m 633ms/step - accuracy: 1.0000 - loss: 0.9479\n",
      "\u001b[1m1/1\u001b[0m \u001b[32m━━━━━━━━━━━━━━━━━━━━\u001b[0m\u001b[37m\u001b[0m \u001b[1m0s\u001b[0m 229ms/step - accuracy: 1.0000 - loss: 0.8747\n",
      "Batch: 1, Loss: 0.8747476935386658, Accuracy: 1.0\n",
      "\u001b[1m1/1\u001b[0m \u001b[32m━━━━━━━━━━━━━━━━━━━━\u001b[0m\u001b[37m\u001b[0m \u001b[1m1s\u001b[0m 715ms/step - accuracy: 1.0000 - loss: 0.9209\n",
      "\u001b[1m1/1\u001b[0m \u001b[32m━━━━━━━━━━━━━━━━━━━━\u001b[0m\u001b[37m\u001b[0m \u001b[1m0s\u001b[0m 258ms/step - accuracy: 1.0000 - loss: 0.8203\n",
      "Batch: 2, Loss: 0.8203008770942688, Accuracy: 1.0\n",
      "\u001b[1m1/1\u001b[0m \u001b[32m━━━━━━━━━━━━━━━━━━━━\u001b[0m\u001b[37m\u001b[0m \u001b[1m1s\u001b[0m 738ms/step - accuracy: 1.0000 - loss: 0.8359\n",
      "\u001b[1m1/1\u001b[0m \u001b[32m━━━━━━━━━━━━━━━━━━━━\u001b[0m\u001b[37m\u001b[0m \u001b[1m0s\u001b[0m 266ms/step - accuracy: 1.0000 - loss: 0.7245\n",
      "Batch: 3, Loss: 0.7245259284973145, Accuracy: 1.0\n",
      "Epoch: 2\n",
      "\u001b[1m1/1\u001b[0m \u001b[32m━━━━━━━━━━━━━━━━━━━━\u001b[0m\u001b[37m\u001b[0m \u001b[1m1s\u001b[0m 762ms/step - accuracy: 1.0000 - loss: 0.6498\n",
      "\u001b[1m1/1\u001b[0m \u001b[32m━━━━━━━━━━━━━━━━━━━━\u001b[0m\u001b[37m\u001b[0m \u001b[1m0s\u001b[0m 308ms/step - accuracy: 1.0000 - loss: 0.5932\n",
      "Batch: 0, Loss: 0.5932140350341797, Accuracy: 1.0\n",
      "\u001b[1m1/1\u001b[0m \u001b[32m━━━━━━━━━━━━━━━━━━━━\u001b[0m\u001b[37m\u001b[0m \u001b[1m1s\u001b[0m 633ms/step - accuracy: 1.0000 - loss: 0.5997\n",
      "\u001b[1m1/1\u001b[0m \u001b[32m━━━━━━━━━━━━━━━━━━━━\u001b[0m\u001b[37m\u001b[0m \u001b[1m0s\u001b[0m 225ms/step - accuracy: 1.0000 - loss: 0.5211\n",
      "Batch: 1, Loss: 0.5211243033409119, Accuracy: 1.0\n",
      "\u001b[1m1/1\u001b[0m \u001b[32m━━━━━━━━━━━━━━━━━━━━\u001b[0m\u001b[37m\u001b[0m \u001b[1m1s\u001b[0m 652ms/step - accuracy: 1.0000 - loss: 0.5835\n",
      "\u001b[1m1/1\u001b[0m \u001b[32m━━━━━━━━━━━━━━━━━━━━\u001b[0m\u001b[37m\u001b[0m \u001b[1m0s\u001b[0m 211ms/step - accuracy: 1.0000 - loss: 0.4959\n",
      "Batch: 2, Loss: 0.49591875076293945, Accuracy: 1.0\n",
      "\u001b[1m1/1\u001b[0m \u001b[32m━━━━━━━━━━━━━━━━━━━━\u001b[0m\u001b[37m\u001b[0m \u001b[1m1s\u001b[0m 655ms/step - accuracy: 1.0000 - loss: 0.4981\n",
      "\u001b[1m1/1\u001b[0m \u001b[32m━━━━━━━━━━━━━━━━━━━━\u001b[0m\u001b[37m\u001b[0m \u001b[1m0s\u001b[0m 216ms/step - accuracy: 1.0000 - loss: 0.4463\n",
      "Batch: 3, Loss: 0.4463212788105011, Accuracy: 1.0\n",
      "Epoch: 3\n",
      "\u001b[1m1/1\u001b[0m \u001b[32m━━━━━━━━━━━━━━━━━━━━\u001b[0m\u001b[37m\u001b[0m \u001b[1m1s\u001b[0m 754ms/step - accuracy: 1.0000 - loss: 0.4759\n",
      "\u001b[1m1/1\u001b[0m \u001b[32m━━━━━━━━━━━━━━━━━━━━\u001b[0m\u001b[37m\u001b[0m \u001b[1m0s\u001b[0m 229ms/step - accuracy: 1.0000 - loss: 0.4123\n",
      "Batch: 0, Loss: 0.41234296560287476, Accuracy: 1.0\n",
      "\u001b[1m1/1\u001b[0m \u001b[32m━━━━━━━━━━━━━━━━━━━━\u001b[0m\u001b[37m\u001b[0m \u001b[1m1s\u001b[0m 654ms/step - accuracy: 1.0000 - loss: 0.3103\n",
      "\u001b[1m1/1\u001b[0m \u001b[32m━━━━━━━━━━━━━━━━━━━━\u001b[0m\u001b[37m\u001b[0m \u001b[1m0s\u001b[0m 222ms/step - accuracy: 1.0000 - loss: 0.2664\n",
      "Batch: 1, Loss: 0.2663557529449463, Accuracy: 1.0\n",
      "\u001b[1m1/1\u001b[0m \u001b[32m━━━━━━━━━━━━━━━━━━━━\u001b[0m\u001b[37m\u001b[0m \u001b[1m1s\u001b[0m 651ms/step - accuracy: 1.0000 - loss: 0.3853\n",
      "\u001b[1m1/1\u001b[0m \u001b[32m━━━━━━━━━━━━━━━━━━━━\u001b[0m\u001b[37m\u001b[0m \u001b[1m0s\u001b[0m 214ms/step - accuracy: 1.0000 - loss: 0.3377\n",
      "Batch: 2, Loss: 0.3376530408859253, Accuracy: 1.0\n",
      "\u001b[1m1/1\u001b[0m \u001b[32m━━━━━━━━━━━━━━━━━━━━\u001b[0m\u001b[37m\u001b[0m \u001b[1m1s\u001b[0m 675ms/step - accuracy: 1.0000 - loss: 0.2819\n",
      "\u001b[1m1/1\u001b[0m \u001b[32m━━━━━━━━━━━━━━━━━━━━\u001b[0m\u001b[37m\u001b[0m \u001b[1m0s\u001b[0m 233ms/step - accuracy: 1.0000 - loss: 0.2343\n",
      "Batch: 3, Loss: 0.23430100083351135, Accuracy: 1.0\n",
      "Epoch: 4\n",
      "\u001b[1m1/1\u001b[0m \u001b[32m━━━━━━━━━━━━━━━━━━━━\u001b[0m\u001b[37m\u001b[0m \u001b[1m1s\u001b[0m 669ms/step - accuracy: 1.0000 - loss: 0.1972\n",
      "\u001b[1m1/1\u001b[0m \u001b[32m━━━━━━━━━━━━━━━━━━━━\u001b[0m\u001b[37m\u001b[0m \u001b[1m0s\u001b[0m 218ms/step - accuracy: 1.0000 - loss: 0.1737\n",
      "Batch: 0, Loss: 0.17366677522659302, Accuracy: 1.0\n",
      "\u001b[1m1/1\u001b[0m \u001b[32m━━━━━━━━━━━━━━━━━━━━\u001b[0m\u001b[37m\u001b[0m \u001b[1m1s\u001b[0m 654ms/step - accuracy: 1.0000 - loss: 0.2398\n",
      "\u001b[1m1/1\u001b[0m \u001b[32m━━━━━━━━━━━━━━━━━━━━\u001b[0m\u001b[37m\u001b[0m \u001b[1m0s\u001b[0m 210ms/step - accuracy: 1.0000 - loss: 0.2031\n",
      "Batch: 1, Loss: 0.2031390368938446, Accuracy: 1.0\n",
      "\u001b[1m1/1\u001b[0m \u001b[32m━━━━━━━━━━━━━━━━━━━━\u001b[0m\u001b[37m\u001b[0m \u001b[1m1s\u001b[0m 637ms/step - accuracy: 1.0000 - loss: 0.2094\n",
      "\u001b[1m1/1\u001b[0m \u001b[32m━━━━━━━━━━━━━━━━━━━━\u001b[0m\u001b[37m\u001b[0m \u001b[1m0s\u001b[0m 223ms/step - accuracy: 1.0000 - loss: 0.1740\n",
      "Batch: 2, Loss: 0.17401769757270813, Accuracy: 1.0\n",
      "\u001b[1m1/1\u001b[0m \u001b[32m━━━━━━━━━━━━━━━━━━━━\u001b[0m\u001b[37m\u001b[0m \u001b[1m1s\u001b[0m 725ms/step - accuracy: 1.0000 - loss: 0.1852\n",
      "\u001b[1m1/1\u001b[0m \u001b[32m━━━━━━━━━━━━━━━━━━━━\u001b[0m\u001b[37m\u001b[0m \u001b[1m0s\u001b[0m 211ms/step - accuracy: 1.0000 - loss: 0.1586\n",
      "Batch: 3, Loss: 0.1585732400417328, Accuracy: 1.0\n",
      "Epoch: 5\n",
      "\u001b[1m1/1\u001b[0m \u001b[32m━━━━━━━━━━━━━━━━━━━━\u001b[0m\u001b[37m\u001b[0m \u001b[1m1s\u001b[0m 653ms/step - accuracy: 1.0000 - loss: 0.1903\n",
      "\u001b[1m1/1\u001b[0m \u001b[32m━━━━━━━━━━━━━━━━━━━━\u001b[0m\u001b[37m\u001b[0m \u001b[1m0s\u001b[0m 218ms/step - accuracy: 1.0000 - loss: 0.1660\n",
      "Batch: 0, Loss: 0.16604192554950714, Accuracy: 1.0\n",
      "\u001b[1m1/1\u001b[0m \u001b[32m━━━━━━━━━━━━━━━━━━━━\u001b[0m\u001b[37m\u001b[0m \u001b[1m1s\u001b[0m 733ms/step - accuracy: 1.0000 - loss: 0.1232\n",
      "\u001b[1m1/1\u001b[0m \u001b[32m━━━━━━━━━━━━━━━━━━━━\u001b[0m\u001b[37m\u001b[0m \u001b[1m0s\u001b[0m 233ms/step - accuracy: 1.0000 - loss: 0.1090\n",
      "Batch: 1, Loss: 0.10895723104476929, Accuracy: 1.0\n",
      "\u001b[1m1/1\u001b[0m \u001b[32m━━━━━━━━━━━━━━━━━━━━\u001b[0m\u001b[37m\u001b[0m \u001b[1m1s\u001b[0m 666ms/step - accuracy: 1.0000 - loss: 0.0962\n",
      "\u001b[1m1/1\u001b[0m \u001b[32m━━━━━━━━━━━━━━━━━━━━\u001b[0m\u001b[37m\u001b[0m \u001b[1m0s\u001b[0m 217ms/step - accuracy: 1.0000 - loss: 0.0850\n",
      "Batch: 2, Loss: 0.08496347069740295, Accuracy: 1.0\n",
      "\u001b[1m1/1\u001b[0m \u001b[32m━━━━━━━━━━━━━━━━━━━━\u001b[0m\u001b[37m\u001b[0m \u001b[1m1s\u001b[0m 636ms/step - accuracy: 1.0000 - loss: 0.0845\n",
      "\u001b[1m1/1\u001b[0m \u001b[32m━━━━━━━━━━━━━━━━━━━━\u001b[0m\u001b[37m\u001b[0m \u001b[1m0s\u001b[0m 210ms/step - accuracy: 1.0000 - loss: 0.0740\n",
      "Batch: 3, Loss: 0.07398533076047897, Accuracy: 1.0\n",
      "Epoch: 6\n",
      "\u001b[1m1/1\u001b[0m \u001b[32m━━━━━━━━━━━━━━━━━━━━\u001b[0m\u001b[37m\u001b[0m \u001b[1m1s\u001b[0m 770ms/step - accuracy: 1.0000 - loss: 0.0747\n",
      "\u001b[1m1/1\u001b[0m \u001b[32m━━━━━━━━━━━━━━━━━━━━\u001b[0m\u001b[37m\u001b[0m \u001b[1m0s\u001b[0m 266ms/step - accuracy: 1.0000 - loss: 0.0656\n",
      "Batch: 0, Loss: 0.0655895322561264, Accuracy: 1.0\n",
      "\u001b[1m1/1\u001b[0m \u001b[32m━━━━━━━━━━━━━━━━━━━━\u001b[0m\u001b[37m\u001b[0m \u001b[1m1s\u001b[0m 812ms/step - accuracy: 1.0000 - loss: 0.0931\n",
      "\u001b[1m1/1\u001b[0m \u001b[32m━━━━━━━━━━━━━━━━━━━━\u001b[0m\u001b[37m\u001b[0m \u001b[1m0s\u001b[0m 320ms/step - accuracy: 1.0000 - loss: 0.0817\n",
      "Batch: 1, Loss: 0.08167147636413574, Accuracy: 1.0\n",
      "\u001b[1m1/1\u001b[0m \u001b[32m━━━━━━━━━━━━━━━━━━━━\u001b[0m\u001b[37m\u001b[0m \u001b[1m1s\u001b[0m 1s/step - accuracy: 1.0000 - loss: 0.0712   \n",
      "\u001b[1m1/1\u001b[0m \u001b[32m━━━━━━━━━━━━━━━━━━━━\u001b[0m\u001b[37m\u001b[0m \u001b[1m0s\u001b[0m 266ms/step - accuracy: 1.0000 - loss: 0.0630\n",
      "Batch: 2, Loss: 0.06300756335258484, Accuracy: 1.0\n",
      "\u001b[1m1/1\u001b[0m \u001b[32m━━━━━━━━━━━━━━━━━━━━\u001b[0m\u001b[37m\u001b[0m \u001b[1m1s\u001b[0m 682ms/step - accuracy: 1.0000 - loss: 0.0580\n",
      "\u001b[1m1/1\u001b[0m \u001b[32m━━━━━━━━━━━━━━━━━━━━\u001b[0m\u001b[37m\u001b[0m \u001b[1m0s\u001b[0m 228ms/step - accuracy: 1.0000 - loss: 0.0516\n",
      "Batch: 3, Loss: 0.05161246284842491, Accuracy: 1.0\n",
      "Epoch: 7\n",
      "\u001b[1m1/1\u001b[0m \u001b[32m━━━━━━━━━━━━━━━━━━━━\u001b[0m\u001b[37m\u001b[0m \u001b[1m1s\u001b[0m 666ms/step - accuracy: 1.0000 - loss: 0.0560\n",
      "\u001b[1m1/1\u001b[0m \u001b[32m━━━━━━━━━━━━━━━━━━━━\u001b[0m\u001b[37m\u001b[0m \u001b[1m0s\u001b[0m 214ms/step - accuracy: 1.0000 - loss: 0.0486\n",
      "Batch: 0, Loss: 0.04860851913690567, Accuracy: 1.0\n",
      "\u001b[1m1/1\u001b[0m \u001b[32m━━━━━━━━━━━━━━━━━━━━\u001b[0m\u001b[37m\u001b[0m \u001b[1m1s\u001b[0m 657ms/step - accuracy: 1.0000 - loss: 0.0591\n",
      "\u001b[1m1/1\u001b[0m \u001b[32m━━━━━━━━━━━━━━━━━━━━\u001b[0m\u001b[37m\u001b[0m \u001b[1m0s\u001b[0m 227ms/step - accuracy: 1.0000 - loss: 0.0523\n",
      "Batch: 1, Loss: 0.05227697640657425, Accuracy: 1.0\n",
      "\u001b[1m1/1\u001b[0m \u001b[32m━━━━━━━━━━━━━━━━━━━━\u001b[0m\u001b[37m\u001b[0m \u001b[1m1s\u001b[0m 655ms/step - accuracy: 1.0000 - loss: 0.0519\n",
      "\u001b[1m1/1\u001b[0m \u001b[32m━━━━━━━━━━━━━━━━━━━━\u001b[0m\u001b[37m\u001b[0m \u001b[1m0s\u001b[0m 207ms/step - accuracy: 1.0000 - loss: 0.0465\n",
      "Batch: 2, Loss: 0.04648010432720184, Accuracy: 1.0\n",
      "\u001b[1m1/1\u001b[0m \u001b[32m━━━━━━━━━━━━━━━━━━━━\u001b[0m\u001b[37m\u001b[0m \u001b[1m1s\u001b[0m 629ms/step - accuracy: 1.0000 - loss: 0.0278\n",
      "\u001b[1m1/1\u001b[0m \u001b[32m━━━━━━━━━━━━━━━━━━━━\u001b[0m\u001b[37m\u001b[0m \u001b[1m0s\u001b[0m 220ms/step - accuracy: 1.0000 - loss: 0.0265\n",
      "Batch: 3, Loss: 0.026534657925367355, Accuracy: 1.0\n",
      "Epoch: 8\n",
      "\u001b[1m1/1\u001b[0m \u001b[32m━━━━━━━━━━━━━━━━━━━━\u001b[0m\u001b[37m\u001b[0m \u001b[1m1s\u001b[0m 655ms/step - accuracy: 1.0000 - loss: 0.0480\n",
      "\u001b[1m1/1\u001b[0m \u001b[32m━━━━━━━━━━━━━━━━━━━━\u001b[0m\u001b[37m\u001b[0m \u001b[1m0s\u001b[0m 215ms/step - accuracy: 1.0000 - loss: 0.0453\n",
      "Batch: 0, Loss: 0.04530339315533638, Accuracy: 1.0\n",
      "\u001b[1m1/1\u001b[0m \u001b[32m━━━━━━━━━━━━━━━━━━━━\u001b[0m\u001b[37m\u001b[0m \u001b[1m1s\u001b[0m 686ms/step - accuracy: 1.0000 - loss: 0.0325\n",
      "\u001b[1m1/1\u001b[0m \u001b[32m━━━━━━━━━━━━━━━━━━━━\u001b[0m\u001b[37m\u001b[0m \u001b[1m0s\u001b[0m 219ms/step - accuracy: 1.0000 - loss: 0.0301\n",
      "Batch: 1, Loss: 0.03013070486485958, Accuracy: 1.0\n",
      "\u001b[1m1/1\u001b[0m \u001b[32m━━━━━━━━━━━━━━━━━━━━\u001b[0m\u001b[37m\u001b[0m \u001b[1m1s\u001b[0m 663ms/step - accuracy: 1.0000 - loss: 0.0262\n",
      "\u001b[1m1/1\u001b[0m \u001b[32m━━━━━━━━━━━━━━━━━━━━\u001b[0m\u001b[37m\u001b[0m \u001b[1m0s\u001b[0m 232ms/step - accuracy: 1.0000 - loss: 0.0244\n",
      "Batch: 2, Loss: 0.024446068331599236, Accuracy: 1.0\n",
      "\u001b[1m1/1\u001b[0m \u001b[32m━━━━━━━━━━━━━━━━━━━━\u001b[0m\u001b[37m\u001b[0m \u001b[1m1s\u001b[0m 649ms/step - accuracy: 0.7500 - loss: 0.5959\n",
      "\u001b[1m1/1\u001b[0m \u001b[32m━━━━━━━━━━━━━━━━━━━━\u001b[0m\u001b[37m\u001b[0m \u001b[1m0s\u001b[0m 215ms/step - accuracy: 1.0000 - loss: 0.0403\n",
      "Batch: 3, Loss: 0.04026392102241516, Accuracy: 1.0\n",
      "Epoch: 9\n",
      "\u001b[1m1/1\u001b[0m \u001b[32m━━━━━━━━━━━━━━━━━━━━\u001b[0m\u001b[37m\u001b[0m \u001b[1m1s\u001b[0m 652ms/step - accuracy: 1.0000 - loss: 0.0332\n",
      "\u001b[1m1/1\u001b[0m \u001b[32m━━━━━━━━━━━━━━━━━━━━\u001b[0m\u001b[37m\u001b[0m \u001b[1m0s\u001b[0m 240ms/step - accuracy: 1.0000 - loss: 0.0372\n",
      "Batch: 0, Loss: 0.03721827641129494, Accuracy: 1.0\n",
      "\u001b[1m1/1\u001b[0m \u001b[32m━━━━━━━━━━━━━━━━━━━━\u001b[0m\u001b[37m\u001b[0m \u001b[1m1s\u001b[0m 742ms/step - accuracy: 1.0000 - loss: 0.0378\n",
      "\u001b[1m1/1\u001b[0m \u001b[32m━━━━━━━━━━━━━━━━━━━━\u001b[0m\u001b[37m\u001b[0m \u001b[1m0s\u001b[0m 222ms/step - accuracy: 1.0000 - loss: 0.0409\n",
      "Batch: 1, Loss: 0.04086372256278992, Accuracy: 1.0\n",
      "\u001b[1m1/1\u001b[0m \u001b[32m━━━━━━━━━━━━━━━━━━━━\u001b[0m\u001b[37m\u001b[0m \u001b[1m1s\u001b[0m 643ms/step - accuracy: 1.0000 - loss: 0.0384\n",
      "\u001b[1m1/1\u001b[0m \u001b[32m━━━━━━━━━━━━━━━━━━━━\u001b[0m\u001b[37m\u001b[0m \u001b[1m0s\u001b[0m 208ms/step - accuracy: 1.0000 - loss: 0.0384\n",
      "Batch: 2, Loss: 0.03835200518369675, Accuracy: 1.0\n",
      "\u001b[1m1/1\u001b[0m \u001b[32m━━━━━━━━━━━━━━━━━━━━\u001b[0m\u001b[37m\u001b[0m \u001b[1m1s\u001b[0m 657ms/step - accuracy: 1.0000 - loss: 0.0573\n",
      "\u001b[1m1/1\u001b[0m \u001b[32m━━━━━━━━━━━━━━━━━━━━\u001b[0m\u001b[37m\u001b[0m \u001b[1m0s\u001b[0m 204ms/step - accuracy: 1.0000 - loss: 0.0435\n",
      "Batch: 3, Loss: 0.04345065355300903, Accuracy: 1.0\n"
     ]
    }
   ],
   "source": [
    "trained_lstm_classifier = train_model(lstm_classifier, epochs=10, batch_size=8, verbose=1)"
   ]
  },
  {
   "cell_type": "code",
   "execution_count": 174,
   "id": "af777f4d",
   "metadata": {},
   "outputs": [],
   "source": [
    "def evaluate_training_scores(model):\n",
    "    losses = []\n",
    "    accuracies = []\n",
    "    for batch_X_list, batch_y_list in create_batches(number_of_files_per_batch=8, preprocessing_pipeline=preprocessing_pipeline, shuffle_files=False):\n",
    "        # Convert the list of arrays to a 3D numpy array\n",
    "        data = np.array(batch_X_list)\n",
    "        labels = np.array(batch_y_list)\n",
    "        \n",
    "        # Evaluate the model\n",
    "        loss, accuracy = model.evaluate(data, labels)\n",
    "        losses.append(loss)\n",
    "        accuracies.append(accuracy)\n",
    "    return np.mean(losses), np.mean(accuracies)"
   ]
  },
  {
   "cell_type": "code",
   "execution_count": 175,
   "id": "c2428aa2",
   "metadata": {},
   "outputs": [
    {
     "name": "stdout",
     "output_type": "stream",
     "text": [
      "\u001b[1m1/1\u001b[0m \u001b[32m━━━━━━━━━━━━━━━━━━━━\u001b[0m\u001b[37m\u001b[0m \u001b[1m0s\u001b[0m 228ms/step - accuracy: 1.0000 - loss: 0.0123\n",
      "\u001b[1m1/1\u001b[0m \u001b[32m━━━━━━━━━━━━━━━━━━━━\u001b[0m\u001b[37m\u001b[0m \u001b[1m0s\u001b[0m 250ms/step - accuracy: 1.0000 - loss: 0.0214\n",
      "\u001b[1m1/1\u001b[0m \u001b[32m━━━━━━━━━━━━━━━━━━━━\u001b[0m\u001b[37m\u001b[0m \u001b[1m0s\u001b[0m 249ms/step - accuracy: 1.0000 - loss: 0.0181\n",
      "\u001b[1m1/1\u001b[0m \u001b[32m━━━━━━━━━━━━━━━━━━━━\u001b[0m\u001b[37m\u001b[0m \u001b[1m0s\u001b[0m 227ms/step - accuracy: 1.0000 - loss: 0.1226\n",
      "Loss: 0.043595935218036175, Accuracy: 1.0\n"
     ]
    }
   ],
   "source": [
    "loss, accuracy = evaluate_training_scores(trained_lstm_classifier)\n",
    "print(f\"Loss: {loss}, Accuracy: {accuracy}\")"
   ]
  },
  {
   "cell_type": "markdown",
   "id": "f0934f51",
   "metadata": {},
   "source": [
    "## Testing"
   ]
  },
  {
   "cell_type": "code",
   "execution_count": null,
   "id": "62a8a778",
   "metadata": {},
   "outputs": [],
   "source": []
  }
 ],
 "metadata": {
  "kernelspec": {
   "display_name": "Python 3",
   "language": "python",
   "name": "python3"
  },
  "language_info": {
   "codemirror_mode": {
    "name": "ipython",
    "version": 3
   },
   "file_extension": ".py",
   "mimetype": "text/x-python",
   "name": "python",
   "nbconvert_exporter": "python",
   "pygments_lexer": "ipython3",
   "version": "3.11.9"
  }
 },
 "nbformat": 4,
 "nbformat_minor": 5
}
