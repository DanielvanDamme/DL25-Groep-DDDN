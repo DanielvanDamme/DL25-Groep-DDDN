{
 "cells": [
  {
   "cell_type": "markdown",
   "id": "ac5db2aa",
   "metadata": {},
   "source": [
    "## Loading the data"
   ]
  },
  {
   "cell_type": "code",
   "execution_count": null,
   "id": "ba0f61d1",
   "metadata": {},
   "outputs": [],
   "source": [
    "from read_data import VALID_TYPE_DATA, VALID_TASK_TYPES, read_data, get_dataset_name\n",
    "\n",
    "# Use it here"
   ]
  },
  {
   "cell_type": "markdown",
   "id": "2cd66fe7",
   "metadata": {},
   "source": [
    "## Preprocessing"
   ]
  },
  {
   "cell_type": "markdown",
   "id": "fb476b82",
   "metadata": {},
   "source": [
    "### Downsampling"
   ]
  },
  {
   "cell_type": "code",
   "execution_count": null,
   "id": "a6c79873",
   "metadata": {},
   "outputs": [],
   "source": [
    "from downsample import downsample\n",
    "\n",
    "# Do the downsampling\n",
    "# TODO: do we need this for X_train, y_train, X_test, y_test? Or just for train_data as one big array? If so, the method needs to be changed..."
   ]
  },
  {
   "cell_type": "markdown",
   "id": "c8dbc084",
   "metadata": {},
   "source": [
    "### Normalization"
   ]
  },
  {
   "cell_type": "code",
   "execution_count": null,
   "id": "d987d0ec",
   "metadata": {},
   "outputs": [],
   "source": [
    "from normalization import normalize\n",
    "\n",
    "# Normalize the data"
   ]
  },
  {
   "cell_type": "markdown",
   "id": "bac02c17",
   "metadata": {},
   "source": [
    "## Training"
   ]
  },
  {
   "cell_type": "markdown",
   "id": "993fe9f6",
   "metadata": {},
   "source": [
    "### Hyperparameters"
   ]
  },
  {
   "cell_type": "code",
   "execution_count": null,
   "id": "7825ed23",
   "metadata": {},
   "outputs": [],
   "source": [
    "EPOCHS = []\n",
    "# TODO: which hyperparameters are we going to grid search?"
   ]
  },
  {
   "cell_type": "markdown",
   "id": "c2de527f",
   "metadata": {},
   "source": [
    "### Model definition"
   ]
  },
  {
   "cell_type": "code",
   "execution_count": null,
   "id": "87683b0e",
   "metadata": {},
   "outputs": [],
   "source": []
  },
  {
   "cell_type": "markdown",
   "id": "4e283a28",
   "metadata": {},
   "source": [
    "### Trainingloop"
   ]
  },
  {
   "cell_type": "code",
   "execution_count": null,
   "id": "2de4a3dc",
   "metadata": {},
   "outputs": [],
   "source": []
  },
  {
   "cell_type": "markdown",
   "id": "f0934f51",
   "metadata": {},
   "source": [
    "## Testing"
   ]
  },
  {
   "cell_type": "markdown",
   "id": "62a8a778",
   "metadata": {},
   "source": []
  }
 ],
 "metadata": {
  "kernelspec": {
   "display_name": "Python 3",
   "language": "python",
   "name": "python3"
  },
  "language_info": {
   "codemirror_mode": {
    "name": "ipython",
    "version": 3
   },
   "file_extension": ".py",
   "mimetype": "text/x-python",
   "name": "python",
   "nbconvert_exporter": "python",
   "pygments_lexer": "ipython3",
   "version": "3.11.9"
  }
 },
 "nbformat": 4,
 "nbformat_minor": 5
}
