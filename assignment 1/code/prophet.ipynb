{
 "cells": [
  {
   "cell_type": "code",
   "execution_count": 46,
   "metadata": {},
   "outputs": [],
   "source": [
    "import numpy as np\n",
    "import pandas as pd\n",
    "from typing import List, Tuple\n",
    "from tensorflow.keras.models import Sequential\n",
    "from tensorflow.keras.layers import Dense\n",
    "from tensorflow.keras.optimizers import Adam\n",
    "from sklearn.metrics import mean_squared_error, mean_absolute_error\n",
    "from sklearn.preprocessing import StandardScaler\n",
    "from scipy.io import loadmat\n",
    "import plotly.graph_objects as go\n",
    "from timeseries_split import load_time_series, create_lagged_features, train_test_split_lagged, plot_lagged_chunks\n",
    "\n",
    "# Hyperparameters\n",
    "n_lags = 15\n",
    "train_size = 0.8\n",
    "total_size = 200\n",
    "stride = 200\n",
    "mat_file_path = 'Xtrain.mat'  # <- Replace with your .mat file path\n",
    "\n",
    "# Load and preprocess the data\n",
    "series = load_time_series(mat_file_path)\n",
    "lagged_df = create_lagged_features(series, n_lags)\n",
    "# splits = train_test_split_lagged(df=lagged_df, train_size=train_size, total_size=total_size, stride=stride)\n",
    "splits = train_test_split_lagged(lagged_df, train_size)"
   ]
  },
  {
   "cell_type": "code",
   "execution_count": null,
   "metadata": {},
   "outputs": [],
   "source": [
    "n_rows_train = len(splits[0][0])\n",
    "n_rows_test = len(splits[0][1])\n",
    "\n",
    "lagged_df_train = splits[0][0]\n",
    "lagged_df_test = splits[0][1]\n",
    "\n",
    "# Create synthethic 'ds' columns for Prophet\n",
    "lagged_df_train['ds'] = pd.date_range(start='2000-01-01', periods = n_rows_train, \n",
    "                                      freq = 'D')\n",
    "\n",
    "# Get the last date from training set\n",
    "last_train_date = lagged_df_train['ds'].iloc[-1]\n",
    "\n",
    "# Create 'ds' for test set starting from the next day\n",
    "lagged_df_test['ds'] = pd.date_range(start=last_train_date + pd.Timedelta(days=1),\n",
    "                                     periods=n_rows_test, freq='D')\n",
    "\n",
    "print(lagged_df_train.columns)\n",
    "print(lagged_df_test.columns)"
   ]
  },
  {
   "cell_type": "code",
   "execution_count": null,
   "metadata": {},
   "outputs": [],
   "source": [
    "from prophet import Prophet\n",
    "\n",
    "# Identify lag columns (anything that starts with 'lag_')\n",
    "lag_columns = [col for col in lagged_df_train.columns if col.startswith('lag_')]\n",
    "\n",
    "# Initialize Prophet\n",
    "model = Prophet()\n",
    "\n",
    "# Add lag features as regressors\n",
    "for lag in lag_columns:\n",
    "    model.add_regressor(lag)\n",
    "\n",
    "# Fit the model\n",
    "model.fit(lagged_df_train[['ds', 'y'] + lag_columns])\n",
    "\n",
    "# Predict\n",
    "forecast = model.predict(lagged_df_test[['ds'] + lag_columns])"
   ]
  },
  {
   "cell_type": "code",
   "execution_count": null,
   "metadata": {},
   "outputs": [],
   "source": [
    "# Add actual values to the forecast DataFrame for comparison\n",
    "forecast['y_actual'] = lagged_df_test['y'].values\n",
    "\n",
    "# Compute metrics\n",
    "mse = mean_squared_error(forecast['y_actual'], forecast['yhat'])\n",
    "mae = mean_absolute_error(forecast['y_actual'], forecast['yhat'])\n",
    "\n",
    "print(\"Mean Squared Error:\", mse)\n",
    "print(\"Mean Absolute Error:\", mae)\n",
    "\n",
    "# Optional: visualize predictions vs actual values\n",
    "import matplotlib.pyplot as plt\n",
    "\n",
    "plt.plot(forecast['ds'], forecast['y_actual'], label='Actual', linewidth=2)\n",
    "plt.plot(forecast['ds'], forecast['yhat'], label='Prophet', linewidth=2)\n",
    "plt.fill_between(forecast['ds'], forecast['yhat_lower'], forecast['yhat_upper'],\n",
    "                 alpha=0.2, label='Confidence Interval')\n",
    "plt.xlabel('Time (sequential dates)')\n",
    "plt.ylabel('Value')\n",
    "plt.legend()\n",
    "plt.grid()\n",
    "plt.tight_layout()\n",
    "plt.show()\n"
   ]
  }
 ],
 "metadata": {
  "kernelspec": {
   "display_name": "venv",
   "language": "python",
   "name": "python3"
  },
  "language_info": {
   "codemirror_mode": {
    "name": "ipython",
    "version": 3
   },
   "file_extension": ".py",
   "mimetype": "text/x-python",
   "name": "python",
   "nbconvert_exporter": "python",
   "pygments_lexer": "ipython3",
   "version": "3.12.3"
  }
 },
 "nbformat": 4,
 "nbformat_minor": 2
}
