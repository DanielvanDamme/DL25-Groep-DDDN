{
 "cells": [
  {
   "cell_type": "code",
   "execution_count": 1,
   "id": "89fd6b44",
   "metadata": {},
   "outputs": [],
   "source": [
    "import scipy\n",
    "matlab = scipy.io.loadmat('Xtrain.mat')"
   ]
  },
  {
   "cell_type": "code",
   "execution_count": null,
   "id": "8dba20c5",
   "metadata": {},
   "outputs": [
    {
     "data": {
      "text/plain": [
       "array([[ 86],\n",
       "       [141],\n",
       "       [ 95],\n",
       "       [ 41],\n",
       "       [ 22],\n",
       "       [ 21],\n",
       "       [ 32],\n",
       "       [ 72],\n",
       "       [138],\n",
       "       [111],\n",
       "       [ 48],\n",
       "       [ 23],\n",
       "       [ 19],\n",
       "       [ 27],\n",
       "       [ 59],\n",
       "       [129],\n",
       "       [129],\n",
       "       [ 58],\n",
       "       [ 27],\n",
       "       [ 19],\n",
       "       [ 24],\n",
       "       [ 46],\n",
       "       [112],\n",
       "       [144],\n",
       "       [ 73],\n",
       "       [ 30],\n",
       "       [ 20],\n",
       "       [ 19],\n",
       "       [ 37],\n",
       "       [ 92],\n",
       "       [152],\n",
       "       [ 93],\n",
       "       [ 36],\n",
       "       [ 20],\n",
       "       [ 18],\n",
       "       [ 29],\n",
       "       [ 71],\n",
       "       [146],\n",
       "       [117],\n",
       "       [ 46],\n",
       "       [ 23],\n",
       "       [ 18],\n",
       "       [ 22],\n",
       "       [ 52],\n",
       "       [128],\n",
       "       [142],\n",
       "       [ 62],\n",
       "       [ 26],\n",
       "       [ 17],\n",
       "       [ 19],\n",
       "       [ 37],\n",
       "       [100],\n",
       "       [158],\n",
       "       [ 86],\n",
       "       [ 32],\n",
       "       [ 17],\n",
       "       [ 17],\n",
       "       [ 27],\n",
       "       [ 72],\n",
       "       [154],\n",
       "       [118],\n",
       "       [ 43],\n",
       "       [ 20],\n",
       "       [ 15],\n",
       "       [ 21],\n",
       "       [ 47],\n",
       "       [128],\n",
       "       [150],\n",
       "       [ 63],\n",
       "       [ 24],\n",
       "       [ 16],\n",
       "       [ 17],\n",
       "       [ 33],\n",
       "       [ 92],\n",
       "       [166],\n",
       "       [ 95],\n",
       "       [ 33],\n",
       "       [ 16],\n",
       "       [ 14],\n",
       "       [ 22],\n",
       "       [ 58],\n",
       "       [149],\n",
       "       [137],\n",
       "       [ 50],\n",
       "       [ 20],\n",
       "       [ 15],\n",
       "       [ 16],\n",
       "       [ 35],\n",
       "       [106],\n",
       "       [169],\n",
       "       [ 82],\n",
       "       [ 28],\n",
       "       [ 15],\n",
       "       [ 14],\n",
       "       [ 23],\n",
       "       [ 65],\n",
       "       [160],\n",
       "       [133],\n",
       "       [ 45],\n",
       "       [ 18],\n",
       "       [ 14],\n",
       "       [ 16],\n",
       "       [ 36],\n",
       "       [111],\n",
       "       [176],\n",
       "       [ 80],\n",
       "       [ 26],\n",
       "       [ 14],\n",
       "       [ 13],\n",
       "       [ 20],\n",
       "       [ 60],\n",
       "       [163],\n",
       "       [140],\n",
       "       [ 45],\n",
       "       [ 18],\n",
       "       [ 12],\n",
       "       [ 14],\n",
       "       [ 30],\n",
       "       [ 98],\n",
       "       [185],\n",
       "       [ 93],\n",
       "       [ 28],\n",
       "       [ 14],\n",
       "       [ 12],\n",
       "       [ 17],\n",
       "       [ 46],\n",
       "       [145],\n",
       "       [167],\n",
       "       [ 58],\n",
       "       [ 19],\n",
       "       [ 11],\n",
       "       [ 12],\n",
       "       [ 21],\n",
       "       [ 68],\n",
       "       [183],\n",
       "       [132],\n",
       "       [ 38],\n",
       "       [ 15],\n",
       "       [ 11],\n",
       "       [ 13],\n",
       "       [ 26],\n",
       "       [ 93],\n",
       "       [202],\n",
       "       [100],\n",
       "       [ 27],\n",
       "       [ 12],\n",
       "       [ 10],\n",
       "       [ 13],\n",
       "       [ 30],\n",
       "       [114],\n",
       "       [206],\n",
       "       [ 82],\n",
       "       [ 21],\n",
       "       [ 11],\n",
       "       [  9],\n",
       "       [ 10],\n",
       "       [ 30],\n",
       "       [120],\n",
       "       [215],\n",
       "       [ 77],\n",
       "       [ 20],\n",
       "       [ 10],\n",
       "       [  8],\n",
       "       [  9],\n",
       "       [ 21],\n",
       "       [ 95],\n",
       "       [234],\n",
       "       [ 99],\n",
       "       [ 22],\n",
       "       [  9],\n",
       "       [  8],\n",
       "       [  7],\n",
       "       [  9],\n",
       "       [ 35],\n",
       "       [176],\n",
       "       [215],\n",
       "       [ 46],\n",
       "       [ 11],\n",
       "       [  7],\n",
       "       [  5],\n",
       "       [  4],\n",
       "       [  3],\n",
       "       [  4],\n",
       "       [ 19],\n",
       "       [105],\n",
       "       [125],\n",
       "       [ 55],\n",
       "       [ 30],\n",
       "       [ 28],\n",
       "       [ 41],\n",
       "       [ 71],\n",
       "       [ 98],\n",
       "       [ 79],\n",
       "       [ 49],\n",
       "       [ 34],\n",
       "       [ 33],\n",
       "       [ 47],\n",
       "       [ 75],\n",
       "       [ 95],\n",
       "       [ 76],\n",
       "       [ 48],\n",
       "       [ 34],\n",
       "       [ 35],\n",
       "       [ 49],\n",
       "       [ 78],\n",
       "       [ 96],\n",
       "       [ 75],\n",
       "       [ 47],\n",
       "       [ 34],\n",
       "       [ 34],\n",
       "       [ 49],\n",
       "       [ 81],\n",
       "       [ 99],\n",
       "       [ 76],\n",
       "       [ 46],\n",
       "       [ 32],\n",
       "       [ 33],\n",
       "       [ 49],\n",
       "       [ 83],\n",
       "       [101],\n",
       "       [ 74],\n",
       "       [ 44],\n",
       "       [ 32],\n",
       "       [ 33],\n",
       "       [ 50],\n",
       "       [ 85],\n",
       "       [103],\n",
       "       [ 73],\n",
       "       [ 43],\n",
       "       [ 30],\n",
       "       [ 31],\n",
       "       [ 49],\n",
       "       [ 85],\n",
       "       [106],\n",
       "       [ 74],\n",
       "       [ 43],\n",
       "       [ 31],\n",
       "       [ 31],\n",
       "       [ 49],\n",
       "       [ 87],\n",
       "       [109],\n",
       "       [ 76],\n",
       "       [ 41],\n",
       "       [ 29],\n",
       "       [ 30],\n",
       "       [ 47],\n",
       "       [ 87],\n",
       "       [110],\n",
       "       [ 76],\n",
       "       [ 41],\n",
       "       [ 28],\n",
       "       [ 30],\n",
       "       [ 47],\n",
       "       [ 88],\n",
       "       [114],\n",
       "       [ 79],\n",
       "       [ 41],\n",
       "       [ 28],\n",
       "       [ 28],\n",
       "       [ 45],\n",
       "       [ 86],\n",
       "       [117],\n",
       "       [ 82],\n",
       "       [ 42],\n",
       "       [ 26],\n",
       "       [ 26],\n",
       "       [ 43],\n",
       "       [ 84],\n",
       "       [119],\n",
       "       [ 85],\n",
       "       [ 42],\n",
       "       [ 26],\n",
       "       [ 25],\n",
       "       [ 39],\n",
       "       [ 80],\n",
       "       [121],\n",
       "       [ 90],\n",
       "       [ 43],\n",
       "       [ 26],\n",
       "       [ 24],\n",
       "       [ 36],\n",
       "       [ 76],\n",
       "       [123],\n",
       "       [ 96],\n",
       "       [ 46],\n",
       "       [ 26],\n",
       "       [ 23],\n",
       "       [ 35],\n",
       "       [ 72],\n",
       "       [123],\n",
       "       [102],\n",
       "       [ 50],\n",
       "       [ 27],\n",
       "       [ 22],\n",
       "       [ 31],\n",
       "       [ 64],\n",
       "       [121],\n",
       "       [110],\n",
       "       [ 53],\n",
       "       [ 27],\n",
       "       [ 21],\n",
       "       [ 28],\n",
       "       [ 57],\n",
       "       [117],\n",
       "       [120],\n",
       "       [ 59],\n",
       "       [ 28],\n",
       "       [ 20],\n",
       "       [ 25],\n",
       "       [ 49],\n",
       "       [109],\n",
       "       [128],\n",
       "       [ 68],\n",
       "       [ 31],\n",
       "       [ 20],\n",
       "       [ 23],\n",
       "       [ 43],\n",
       "       [ 98],\n",
       "       [135],\n",
       "       [ 77],\n",
       "       [ 34],\n",
       "       [ 22],\n",
       "       [ 22],\n",
       "       [ 36],\n",
       "       [ 86],\n",
       "       [139],\n",
       "       [ 91],\n",
       "       [ 38],\n",
       "       [ 21],\n",
       "       [ 19],\n",
       "       [ 30],\n",
       "       [ 73],\n",
       "       [137],\n",
       "       [107],\n",
       "       [ 44],\n",
       "       [ 23],\n",
       "       [ 19],\n",
       "       [ 26],\n",
       "       [ 59],\n",
       "       [129],\n",
       "       [125],\n",
       "       [ 55],\n",
       "       [ 24],\n",
       "       [ 18],\n",
       "       [ 22],\n",
       "       [ 47],\n",
       "       [114],\n",
       "       [140],\n",
       "       [ 68],\n",
       "       [ 28],\n",
       "       [ 18],\n",
       "       [ 19],\n",
       "       [ 36],\n",
       "       [ 93],\n",
       "       [150],\n",
       "       [ 88],\n",
       "       [ 34],\n",
       "       [ 19],\n",
       "       [ 18],\n",
       "       [ 28],\n",
       "       [ 72],\n",
       "       [147],\n",
       "       [112],\n",
       "       [ 43],\n",
       "       [ 20],\n",
       "       [ 16],\n",
       "       [ 23],\n",
       "       [ 53],\n",
       "       [131],\n",
       "       [137],\n",
       "       [ 58],\n",
       "       [ 24],\n",
       "       [ 16],\n",
       "       [ 19],\n",
       "       [ 38],\n",
       "       [104],\n",
       "       [156],\n",
       "       [ 80],\n",
       "       [ 30],\n",
       "       [ 17],\n",
       "       [ 16],\n",
       "       [ 28],\n",
       "       [ 75],\n",
       "       [156],\n",
       "       [112],\n",
       "       [ 40],\n",
       "       [ 18],\n",
       "       [ 15],\n",
       "       [ 21],\n",
       "       [ 51],\n",
       "       [132],\n",
       "       [145],\n",
       "       [ 59],\n",
       "       [ 22],\n",
       "       [ 15],\n",
       "       [ 17],\n",
       "       [ 32],\n",
       "       [ 96],\n",
       "       [164],\n",
       "       [ 89],\n",
       "       [ 30],\n",
       "       [ 16],\n",
       "       [ 14],\n",
       "       [ 24],\n",
       "       [ 62],\n",
       "       [153],\n",
       "       [130],\n",
       "       [ 46],\n",
       "       [ 19],\n",
       "       [ 13],\n",
       "       [ 17],\n",
       "       [ 37],\n",
       "       [113],\n",
       "       [165],\n",
       "       [ 75],\n",
       "       [ 25],\n",
       "       [ 14],\n",
       "       [ 13],\n",
       "       [ 24],\n",
       "       [ 68],\n",
       "       [164],\n",
       "       [123],\n",
       "       [ 40],\n",
       "       [ 17],\n",
       "       [ 13],\n",
       "       [ 16],\n",
       "       [ 38],\n",
       "       [118],\n",
       "       [170],\n",
       "       [ 71],\n",
       "       [ 24],\n",
       "       [ 13],\n",
       "       [ 12],\n",
       "       [ 22],\n",
       "       [ 65],\n",
       "       [167],\n",
       "       [129],\n",
       "       [ 40],\n",
       "       [ 16],\n",
       "       [ 12],\n",
       "       [ 14],\n",
       "       [ 33],\n",
       "       [107],\n",
       "       [182],\n",
       "       [ 81],\n",
       "       [ 24],\n",
       "       [ 12],\n",
       "       [ 11],\n",
       "       [ 17],\n",
       "       [ 51],\n",
       "       [156],\n",
       "       [155],\n",
       "       [ 49],\n",
       "       [ 17],\n",
       "       [ 11],\n",
       "       [ 11],\n",
       "       [ 23],\n",
       "       [ 77],\n",
       "       [189],\n",
       "       [115],\n",
       "       [ 32],\n",
       "       [ 13],\n",
       "       [  9],\n",
       "       [ 12],\n",
       "       [ 30],\n",
       "       [107],\n",
       "       [197],\n",
       "       [ 82],\n",
       "       [ 23],\n",
       "       [ 10],\n",
       "       [  9],\n",
       "       [ 12],\n",
       "       [ 36],\n",
       "       [134],\n",
       "       [192],\n",
       "       [ 64],\n",
       "       [ 18],\n",
       "       [ 10],\n",
       "       [  8],\n",
       "       [ 13],\n",
       "       [ 37],\n",
       "       [148],\n",
       "       [195],\n",
       "       [ 58],\n",
       "       [ 16],\n",
       "       [  9],\n",
       "       [  8],\n",
       "       [ 10],\n",
       "       [ 29],\n",
       "       [132],\n",
       "       [220],\n",
       "       [ 67],\n",
       "       [ 15],\n",
       "       [  8],\n",
       "       [  6],\n",
       "       [  7],\n",
       "       [ 14],\n",
       "       [ 66],\n",
       "       [237],\n",
       "       [137],\n",
       "       [ 25],\n",
       "       [  9],\n",
       "       [  6],\n",
       "       [  5],\n",
       "       [  4],\n",
       "       [  5],\n",
       "       [ 25],\n",
       "       [165],\n",
       "       [233],\n",
       "       [ 51],\n",
       "       [ 12],\n",
       "       [  7],\n",
       "       [  7],\n",
       "       [  7],\n",
       "       [ 18],\n",
       "       [ 80],\n",
       "       [201],\n",
       "       [109],\n",
       "       [ 29],\n",
       "       [ 12],\n",
       "       [ 10],\n",
       "       [ 14],\n",
       "       [ 38],\n",
       "       [128],\n",
       "       [169],\n",
       "       [ 63],\n",
       "       [ 20],\n",
       "       [ 11],\n",
       "       [ 11],\n",
       "       [ 23],\n",
       "       [ 74],\n",
       "       [173],\n",
       "       [114],\n",
       "       [ 34],\n",
       "       [ 14],\n",
       "       [ 11],\n",
       "       [ 14],\n",
       "       [ 37],\n",
       "       [122],\n",
       "       [172],\n",
       "       [ 67],\n",
       "       [ 21],\n",
       "       [ 11],\n",
       "       [ 11],\n",
       "       [ 20],\n",
       "       [ 64],\n",
       "       [169],\n",
       "       [131],\n",
       "       [ 39],\n",
       "       [ 13],\n",
       "       [  9],\n",
       "       [ 12],\n",
       "       [ 28],\n",
       "       [100],\n",
       "       [188],\n",
       "       [ 88],\n",
       "       [ 25],\n",
       "       [ 11],\n",
       "       [ 10],\n",
       "       [ 14],\n",
       "       [ 41],\n",
       "       [141],\n",
       "       [176],\n",
       "       [ 57],\n",
       "       [ 17],\n",
       "       [ 10],\n",
       "       [ 10],\n",
       "       [ 16],\n",
       "       [ 56],\n",
       "       [175],\n",
       "       [149],\n",
       "       [ 41],\n",
       "       [ 14],\n",
       "       [  8],\n",
       "       [  9],\n",
       "       [ 18],\n",
       "       [ 67],\n",
       "       [196],\n",
       "       [130],\n",
       "       [ 32],\n",
       "       [ 11],\n",
       "       [  8],\n",
       "       [  7],\n",
       "       [ 17],\n",
       "       [ 66],\n",
       "       [207],\n",
       "       [131],\n",
       "       [ 30],\n",
       "       [ 10],\n",
       "       [  7],\n",
       "       [  6],\n",
       "       [ 12],\n",
       "       [ 48],\n",
       "       [193],\n",
       "       [172],\n",
       "       [ 39],\n",
       "       [ 11],\n",
       "       [  7],\n",
       "       [  6],\n",
       "       [  6],\n",
       "       [ 16],\n",
       "       [ 86],\n",
       "       [255],\n",
       "       [107],\n",
       "       [ 19],\n",
       "       [  8],\n",
       "       [  5],\n",
       "       [  4],\n",
       "       [  3],\n",
       "       [  2],\n",
       "       [  2],\n",
       "       [  7],\n",
       "       [ 23],\n",
       "       [  8],\n",
       "       [  6],\n",
       "       [  8],\n",
       "       [ 16],\n",
       "       [ 33],\n",
       "       [ 57],\n",
       "       [ 65],\n",
       "       [ 56],\n",
       "       [ 46],\n",
       "       [ 46],\n",
       "       [ 54],\n",
       "       [ 64],\n",
       "       [ 66],\n",
       "       [ 59],\n",
       "       [ 49],\n",
       "       [ 46],\n",
       "       [ 48],\n",
       "       [ 58],\n",
       "       [ 67],\n",
       "       [ 67],\n",
       "       [ 60],\n",
       "       [ 50],\n",
       "       [ 47],\n",
       "       [ 51],\n",
       "       [ 60],\n",
       "       [ 69],\n",
       "       [ 68],\n",
       "       [ 58],\n",
       "       [ 50],\n",
       "       [ 46],\n",
       "       [ 52],\n",
       "       [ 61],\n",
       "       [ 71],\n",
       "       [ 68],\n",
       "       [ 58],\n",
       "       [ 48],\n",
       "       [ 46],\n",
       "       [ 53],\n",
       "       [ 64],\n",
       "       [ 72],\n",
       "       [ 68],\n",
       "       [ 56],\n",
       "       [ 47],\n",
       "       [ 45],\n",
       "       [ 53],\n",
       "       [ 65],\n",
       "       [ 73],\n",
       "       [ 67],\n",
       "       [ 54],\n",
       "       [ 46],\n",
       "       [ 46],\n",
       "       [ 55],\n",
       "       [ 67],\n",
       "       [ 74],\n",
       "       [ 66],\n",
       "       [ 54],\n",
       "       [ 44],\n",
       "       [ 46],\n",
       "       [ 55],\n",
       "       [ 70],\n",
       "       [ 76],\n",
       "       [ 66],\n",
       "       [ 51],\n",
       "       [ 45],\n",
       "       [ 46],\n",
       "       [ 58],\n",
       "       [ 73],\n",
       "       [ 77],\n",
       "       [ 65],\n",
       "       [ 52],\n",
       "       [ 44],\n",
       "       [ 46],\n",
       "       [ 59],\n",
       "       [ 75],\n",
       "       [ 78],\n",
       "       [ 64],\n",
       "       [ 49],\n",
       "       [ 43],\n",
       "       [ 47],\n",
       "       [ 61],\n",
       "       [ 78],\n",
       "       [ 79],\n",
       "       [ 63],\n",
       "       [ 47],\n",
       "       [ 43],\n",
       "       [ 47],\n",
       "       [ 63],\n",
       "       [ 80],\n",
       "       [ 79],\n",
       "       [ 61],\n",
       "       [ 46],\n",
       "       [ 42],\n",
       "       [ 48],\n",
       "       [ 66],\n",
       "       [ 84],\n",
       "       [ 80],\n",
       "       [ 60],\n",
       "       [ 46],\n",
       "       [ 42],\n",
       "       [ 50],\n",
       "       [ 68],\n",
       "       [ 86],\n",
       "       [ 80],\n",
       "       [ 59],\n",
       "       [ 43],\n",
       "       [ 41],\n",
       "       [ 50],\n",
       "       [ 71],\n",
       "       [ 88],\n",
       "       [ 79],\n",
       "       [ 56],\n",
       "       [ 41],\n",
       "       [ 41],\n",
       "       [ 51],\n",
       "       [ 73],\n",
       "       [ 91],\n",
       "       [ 78],\n",
       "       [ 55],\n",
       "       [ 41],\n",
       "       [ 40],\n",
       "       [ 52],\n",
       "       [ 75],\n",
       "       [ 94],\n",
       "       [ 78],\n",
       "       [ 54],\n",
       "       [ 39],\n",
       "       [ 40],\n",
       "       [ 52],\n",
       "       [ 79],\n",
       "       [ 95],\n",
       "       [ 76],\n",
       "       [ 50],\n",
       "       [ 37],\n",
       "       [ 38],\n",
       "       [ 52],\n",
       "       [ 80],\n",
       "       [ 97],\n",
       "       [ 76],\n",
       "       [ 50],\n",
       "       [ 36],\n",
       "       [ 37],\n",
       "       [ 54],\n",
       "       [ 83],\n",
       "       [ 98],\n",
       "       [ 74],\n",
       "       [ 47],\n",
       "       [ 34],\n",
       "       [ 37],\n",
       "       [ 53],\n",
       "       [ 85],\n",
       "       [100],\n",
       "       [ 74],\n",
       "       [ 45],\n",
       "       [ 34],\n",
       "       [ 35],\n",
       "       [ 54],\n",
       "       [ 87],\n",
       "       [103],\n",
       "       [ 72],\n",
       "       [ 43],\n",
       "       [ 33],\n",
       "       [ 35],\n",
       "       [ 53],\n",
       "       [ 88],\n",
       "       [103],\n",
       "       [ 73],\n",
       "       [ 43],\n",
       "       [ 32],\n",
       "       [ 33],\n",
       "       [ 53],\n",
       "       [ 91],\n",
       "       [105],\n",
       "       [ 72],\n",
       "       [ 41],\n",
       "       [ 31],\n",
       "       [ 33],\n",
       "       [ 54],\n",
       "       [ 91],\n",
       "       [108],\n",
       "       [ 72],\n",
       "       [ 41],\n",
       "       [ 30],\n",
       "       [ 32],\n",
       "       [ 51],\n",
       "       [ 93],\n",
       "       [111],\n",
       "       [ 74],\n",
       "       [ 41],\n",
       "       [ 29],\n",
       "       [ 31],\n",
       "       [ 51],\n",
       "       [ 93],\n",
       "       [113],\n",
       "       [ 75],\n",
       "       [ 40],\n",
       "       [ 29],\n",
       "       [ 30],\n",
       "       [ 49],\n",
       "       [ 92],\n",
       "       [118],\n",
       "       [ 78],\n",
       "       [ 41],\n",
       "       [ 28],\n",
       "       [ 29],\n",
       "       [ 46],\n",
       "       [ 90],\n",
       "       [120],\n",
       "       [ 82],\n",
       "       [ 42],\n",
       "       [ 29],\n",
       "       [ 28],\n",
       "       [ 45],\n",
       "       [ 88],\n",
       "       [124],\n",
       "       [ 86],\n",
       "       [ 43],\n",
       "       [ 27],\n",
       "       [ 27],\n",
       "       [ 41],\n",
       "       [ 83],\n",
       "       [126],\n",
       "       [ 91],\n",
       "       [ 45],\n",
       "       [ 27],\n",
       "       [ 26],\n",
       "       [ 38],\n",
       "       [ 78],\n",
       "       [127],\n",
       "       [ 99],\n",
       "       [ 47],\n",
       "       [ 27],\n",
       "       [ 24],\n",
       "       [ 35],\n",
       "       [ 72],\n",
       "       [126],\n",
       "       [106],\n",
       "       [ 52],\n",
       "       [ 28],\n",
       "       [ 23],\n",
       "       [ 32],\n",
       "       [ 65],\n",
       "       [123],\n",
       "       [116],\n",
       "       [ 56],\n",
       "       [ 29],\n",
       "       [ 22],\n",
       "       [ 28],\n",
       "       [ 56],\n",
       "       [117],\n",
       "       [126],\n",
       "       [ 64],\n",
       "       [ 30],\n",
       "       [ 22],\n",
       "       [ 27],\n",
       "       [ 49],\n",
       "       [107],\n",
       "       [133],\n",
       "       [ 74],\n",
       "       [ 32],\n",
       "       [ 21],\n",
       "       [ 23],\n",
       "       [ 41],\n",
       "       [ 95],\n",
       "       [140],\n",
       "       [ 84],\n",
       "       [ 36],\n",
       "       [ 21],\n",
       "       [ 21],\n",
       "       [ 35],\n",
       "       [ 80],\n",
       "       [141],\n",
       "       [ 99],\n",
       "       [ 42],\n",
       "       [ 22],\n",
       "       [ 20],\n",
       "       [ 29],\n",
       "       [ 67],\n",
       "       [135],\n",
       "       [117],\n",
       "       [ 49],\n",
       "       [ 24],\n",
       "       [ 18],\n",
       "       [ 25],\n",
       "       [ 52],\n",
       "       [122],\n",
       "       [134],\n",
       "       [ 62],\n",
       "       [ 26],\n",
       "       [ 18],\n",
       "       [ 20],\n",
       "       [ 41],\n",
       "       [104],\n",
       "       [148],\n",
       "       [ 79],\n",
       "       [ 32],\n",
       "       [ 18],\n",
       "       [ 19],\n",
       "       [ 32],\n",
       "       [ 82],\n",
       "       [151],\n",
       "       [100],\n",
       "       [ 39],\n",
       "       [ 19],\n",
       "       [ 17],\n",
       "       [ 25],\n",
       "       [ 62],\n",
       "       [140],\n",
       "       [128],\n",
       "       [ 52],\n",
       "       [ 22],\n",
       "       [ 17],\n",
       "       [ 21],\n",
       "       [ 44],\n",
       "       [116],\n",
       "       [150],\n",
       "       [ 71],\n",
       "       [ 27],\n",
       "       [ 18],\n",
       "       [ 18],\n",
       "       [ 32],\n",
       "       [ 88],\n",
       "       [159],\n",
       "       [ 98],\n",
       "       [ 36],\n",
       "       [ 19],\n",
       "       [ 16],\n",
       "       [ 25],\n",
       "       [ 61],\n",
       "       [146],\n",
       "       [132],\n",
       "       [ 52],\n",
       "       [ 21],\n",
       "       [ 17],\n",
       "       [ 19],\n",
       "       [ 41],\n",
       "       [113],\n",
       "       [161],\n",
       "       [ 76],\n",
       "       [ 28],\n",
       "       [ 16],\n",
       "       [ 16],\n",
       "       [ 28],\n",
       "       [ 77],\n",
       "       [163],\n",
       "       [114],\n",
       "       [ 39],\n",
       "       [ 19],\n",
       "       [ 15],\n",
       "       [ 20],\n",
       "       [ 47],\n",
       "       [132],\n",
       "       [156],\n",
       "       [ 62],\n",
       "       [ 24],\n",
       "       [ 15],\n",
       "       [ 16],\n",
       "       [ 30],\n",
       "       [ 86],\n",
       "       [173],\n",
       "       [102],\n",
       "       [ 34],\n",
       "       [ 16],\n",
       "       [ 13],\n",
       "       [ 19],\n",
       "       [ 50],\n",
       "       [141],\n",
       "       [154],\n",
       "       [ 57],\n",
       "       [ 21],\n",
       "       [ 13],\n",
       "       [ 14],\n",
       "       [ 27],\n",
       "       [ 87],\n",
       "       [179],\n",
       "       [103],\n",
       "       [ 33],\n",
       "       [ 15],\n",
       "       [ 12],\n",
       "       [ 18],\n",
       "       [ 45],\n",
       "       [136],\n",
       "       [166],\n",
       "       [ 61],\n",
       "       [ 20],\n",
       "       [ 12],\n",
       "       [ 13],\n",
       "       [ 23]], dtype=uint8)"
      ]
     },
     "execution_count": 7,
     "metadata": {},
     "output_type": "execute_result"
    }
   ],
   "source": [
    "X_train = matlab['Xtrain']\n"
   ]
  },
  {
   "cell_type": "code",
   "execution_count": null,
   "id": "f9037af3",
   "metadata": {},
   "outputs": [],
   "source": [
    "import plotly.express as px\n",
    "import plotly.graph_objects as go"
   ]
  },
  {
   "cell_type": "code",
   "execution_count": 12,
   "id": "0d881557",
   "metadata": {},
   "outputs": [
    {
     "name": "stdout",
     "output_type": "stream",
     "text": [
      "[86, 141, 95, 41, 22, 21, 32, 72, 138, 111, 48, 23, 19, 27, 59, 129, 129, 58, 27, 19, 24, 46, 112, 144, 73, 30, 20, 19, 37, 92, 152, 93, 36, 20, 18, 29, 71, 146, 117, 46, 23, 18, 22, 52, 128, 142, 62, 26, 17, 19, 37, 100, 158, 86, 32, 17, 17, 27, 72, 154, 118, 43, 20, 15, 21, 47, 128, 150, 63, 24, 16, 17, 33, 92, 166, 95, 33, 16, 14, 22, 58, 149, 137, 50, 20, 15, 16, 35, 106, 169, 82, 28, 15, 14, 23, 65, 160, 133, 45, 18, 14, 16, 36, 111, 176, 80, 26, 14, 13, 20, 60, 163, 140, 45, 18, 12, 14, 30, 98, 185, 93, 28, 14, 12, 17, 46, 145, 167, 58, 19, 11, 12, 21, 68, 183, 132, 38, 15, 11, 13, 26, 93, 202, 100, 27, 12, 10, 13, 30, 114, 206, 82, 21, 11, 9, 10, 30, 120, 215, 77, 20, 10, 8, 9, 21, 95, 234, 99, 22, 9, 8, 7, 9, 35, 176, 215, 46, 11, 7, 5, 4, 3, 4, 19, 105, 125, 55, 30, 28, 41, 71, 98, 79, 49, 34, 33, 47, 75, 95, 76, 48, 34, 35, 49, 78, 96, 75, 47, 34, 34, 49, 81, 99, 76, 46, 32, 33, 49, 83, 101, 74, 44, 32, 33, 50, 85, 103, 73, 43, 30, 31, 49, 85, 106, 74, 43, 31, 31, 49, 87, 109, 76, 41, 29, 30, 47, 87, 110, 76, 41, 28, 30, 47, 88, 114, 79, 41, 28, 28, 45, 86, 117, 82, 42, 26, 26, 43, 84, 119, 85, 42, 26, 25, 39, 80, 121, 90, 43, 26, 24, 36, 76, 123, 96, 46, 26, 23, 35, 72, 123, 102, 50, 27, 22, 31, 64, 121, 110, 53, 27, 21, 28, 57, 117, 120, 59, 28, 20, 25, 49, 109, 128, 68, 31, 20, 23, 43, 98, 135, 77, 34, 22, 22, 36, 86, 139, 91, 38, 21, 19, 30, 73, 137, 107, 44, 23, 19, 26, 59, 129, 125, 55, 24, 18, 22, 47, 114, 140, 68, 28, 18, 19, 36, 93, 150, 88, 34, 19, 18, 28, 72, 147, 112, 43, 20, 16, 23, 53, 131, 137, 58, 24, 16, 19, 38, 104, 156, 80, 30, 17, 16, 28, 75, 156, 112, 40, 18, 15, 21, 51, 132, 145, 59, 22, 15, 17, 32, 96, 164, 89, 30, 16, 14, 24, 62, 153, 130, 46, 19, 13, 17, 37, 113, 165, 75, 25, 14, 13, 24, 68, 164, 123, 40, 17, 13, 16, 38, 118, 170, 71, 24, 13, 12, 22, 65, 167, 129, 40, 16, 12, 14, 33, 107, 182, 81, 24, 12, 11, 17, 51, 156, 155, 49, 17, 11, 11, 23, 77, 189, 115, 32, 13, 9, 12, 30, 107, 197, 82, 23, 10, 9, 12, 36, 134, 192, 64, 18, 10, 8, 13, 37, 148, 195, 58, 16, 9, 8, 10, 29, 132, 220, 67, 15, 8, 6, 7, 14, 66, 237, 137, 25, 9, 6, 5, 4, 5, 25, 165, 233, 51, 12, 7, 7, 7, 18, 80, 201, 109, 29, 12, 10, 14, 38, 128, 169, 63, 20, 11, 11, 23, 74, 173, 114, 34, 14, 11, 14, 37, 122, 172, 67, 21, 11, 11, 20, 64, 169, 131, 39, 13, 9, 12, 28, 100, 188, 88, 25, 11, 10, 14, 41, 141, 176, 57, 17, 10, 10, 16, 56, 175, 149, 41, 14, 8, 9, 18, 67, 196, 130, 32, 11, 8, 7, 17, 66, 207, 131, 30, 10, 7, 6, 12, 48, 193, 172, 39, 11, 7, 6, 6, 16, 86, 255, 107, 19, 8, 5, 4, 3, 2, 2, 7, 23, 8, 6, 8, 16, 33, 57, 65, 56, 46, 46, 54, 64, 66, 59, 49, 46, 48, 58, 67, 67, 60, 50, 47, 51, 60, 69, 68, 58, 50, 46, 52, 61, 71, 68, 58, 48, 46, 53, 64, 72, 68, 56, 47, 45, 53, 65, 73, 67, 54, 46, 46, 55, 67, 74, 66, 54, 44, 46, 55, 70, 76, 66, 51, 45, 46, 58, 73, 77, 65, 52, 44, 46, 59, 75, 78, 64, 49, 43, 47, 61, 78, 79, 63, 47, 43, 47, 63, 80, 79, 61, 46, 42, 48, 66, 84, 80, 60, 46, 42, 50, 68, 86, 80, 59, 43, 41, 50, 71, 88, 79, 56, 41, 41, 51, 73, 91, 78, 55, 41, 40, 52, 75, 94, 78, 54, 39, 40, 52, 79, 95, 76, 50, 37, 38, 52, 80, 97, 76, 50, 36, 37, 54, 83, 98, 74, 47, 34, 37, 53, 85, 100, 74, 45, 34, 35, 54, 87, 103, 72, 43, 33, 35, 53, 88, 103, 73, 43, 32, 33, 53, 91, 105, 72, 41, 31, 33, 54, 91, 108, 72, 41, 30, 32, 51, 93, 111, 74, 41, 29, 31, 51, 93, 113, 75, 40, 29, 30, 49, 92, 118, 78, 41, 28, 29, 46, 90, 120, 82, 42, 29, 28, 45, 88, 124, 86, 43, 27, 27, 41, 83, 126, 91, 45, 27, 26, 38, 78, 127, 99, 47, 27, 24, 35, 72, 126, 106, 52, 28, 23, 32, 65, 123, 116, 56, 29, 22, 28, 56, 117, 126, 64, 30, 22, 27, 49, 107, 133, 74, 32, 21, 23, 41, 95, 140, 84, 36, 21, 21, 35, 80, 141, 99, 42, 22, 20, 29, 67, 135, 117, 49, 24, 18, 25, 52, 122, 134, 62, 26, 18, 20, 41, 104, 148, 79, 32, 18, 19, 32, 82, 151, 100, 39, 19, 17, 25, 62, 140, 128, 52, 22, 17, 21, 44, 116, 150, 71, 27, 18, 18, 32, 88, 159, 98, 36, 19, 16, 25, 61, 146, 132, 52, 21, 17, 19, 41, 113, 161, 76, 28, 16, 16, 28, 77, 163, 114, 39, 19, 15, 20, 47, 132, 156, 62, 24, 15, 16, 30, 86, 173, 102, 34, 16, 13, 19, 50, 141, 154, 57, 21, 13, 14, 27, 87, 179, 103, 33, 15, 12, 18, 45, 136, 166, 61, 20, 12, 13, 23]\n"
     ]
    },
    {
     "data": {
      "application/vnd.plotly.v1+json": {
       "config": {
        "plotlyServerURL": "https://plot.ly"
       },
       "data": [
        {
         "hovertemplate": "x=%{x}<br>y=%{y}<extra></extra>",
         "legendgroup": "",
         "line": {
          "color": "#636efa",
          "dash": "solid"
         },
         "marker": {
          "symbol": "circle"
         },
         "mode": "lines",
         "name": "",
         "orientation": "v",
         "showlegend": false,
         "type": "scatter",
         "x": {
          "bdata": "AAABAAIAAwAEAAUABgAHAAgACQAKAAsADAANAA4ADwAQABEAEgATABQAFQAWABcAGAAZABoAGwAcAB0AHgAfACAAIQAiACMAJAAlACYAJwAoACkAKgArACwALQAuAC8AMAAxADIAMwA0ADUANgA3ADgAOQA6ADsAPAA9AD4APwBAAEEAQgBDAEQARQBGAEcASABJAEoASwBMAE0ATgBPAFAAUQBSAFMAVABVAFYAVwBYAFkAWgBbAFwAXQBeAF8AYABhAGIAYwBkAGUAZgBnAGgAaQBqAGsAbABtAG4AbwBwAHEAcgBzAHQAdQB2AHcAeAB5AHoAewB8AH0AfgB/AIAAgQCCAIMAhACFAIYAhwCIAIkAigCLAIwAjQCOAI8AkACRAJIAkwCUAJUAlgCXAJgAmQCaAJsAnACdAJ4AnwCgAKEAogCjAKQApQCmAKcAqACpAKoAqwCsAK0ArgCvALAAsQCyALMAtAC1ALYAtwC4ALkAugC7ALwAvQC+AL8AwADBAMIAwwDEAMUAxgDHAMgAyQDKAMsAzADNAM4AzwDQANEA0gDTANQA1QDWANcA2ADZANoA2wDcAN0A3gDfAOAA4QDiAOMA5ADlAOYA5wDoAOkA6gDrAOwA7QDuAO8A8ADxAPIA8wD0APUA9gD3APgA+QD6APsA/AD9AP4A/wAAAQEBAgEDAQQBBQEGAQcBCAEJAQoBCwEMAQ0BDgEPARABEQESARMBFAEVARYBFwEYARkBGgEbARwBHQEeAR8BIAEhASIBIwEkASUBJgEnASgBKQEqASsBLAEtAS4BLwEwATEBMgEzATQBNQE2ATcBOAE5AToBOwE8AT0BPgE/AUABQQFCAUMBRAFFAUYBRwFIAUkBSgFLAUwBTQFOAU8BUAFRAVIBUwFUAVUBVgFXAVgBWQFaAVsBXAFdAV4BXwFgAWEBYgFjAWQBZQFmAWcBaAFpAWoBawFsAW0BbgFvAXABcQFyAXMBdAF1AXYBdwF4AXkBegF7AXwBfQF+AX8BgAGBAYIBgwGEAYUBhgGHAYgBiQGKAYsBjAGNAY4BjwGQAZEBkgGTAZQBlQGWAZcBmAGZAZoBmwGcAZ0BngGfAaABoQGiAaMBpAGlAaYBpwGoAakBqgGrAawBrQGuAa8BsAGxAbIBswG0AbUBtgG3AbgBuQG6AbsBvAG9Ab4BvwHAAcEBwgHDAcQBxQHGAccByAHJAcoBywHMAc0BzgHPAdAB0QHSAdMB1AHVAdYB1wHYAdkB2gHbAdwB3QHeAd8B4AHhAeIB4wHkAeUB5gHnAegB6QHqAesB7AHtAe4B7wHwAfEB8gHzAfQB9QH2AfcB+AH5AfoB+wH8Af0B/gH/AQACAQICAgMCBAIFAgYCBwIIAgkCCgILAgwCDQIOAg8CEAIRAhICEwIUAhUCFgIXAhgCGQIaAhsCHAIdAh4CHwIgAiECIgIjAiQCJQImAicCKAIpAioCKwIsAi0CLgIvAjACMQIyAjMCNAI1AjYCNwI4AjkCOgI7AjwCPQI+Aj8CQAJBAkICQwJEAkUCRgJHAkgCSQJKAksCTAJNAk4CTwJQAlECUgJTAlQCVQJWAlcCWAJZAloCWwJcAl0CXgJfAmACYQJiAmMCZAJlAmYCZwJoAmkCagJrAmwCbQJuAm8CcAJxAnICcwJ0AnUCdgJ3AngCeQJ6AnsCfAJ9An4CfwKAAoECggKDAoQChQKGAocCiAKJAooCiwKMAo0CjgKPApACkQKSApMClAKVApYClwKYApkCmgKbApwCnQKeAp8CoAKhAqICowKkAqUCpgKnAqgCqQKqAqsCrAKtAq4CrwKwArECsgKzArQCtQK2ArcCuAK5AroCuwK8Ar0CvgK/AsACwQLCAsMCxALFAsYCxwLIAskCygLLAswCzQLOAs8C0ALRAtIC0wLUAtUC1gLXAtgC2QLaAtsC3ALdAt4C3wLgAuEC4gLjAuQC5QLmAucC6ALpAuoC6wLsAu0C7gLvAvAC8QLyAvMC9AL1AvYC9wL4AvkC+gL7AvwC/QL+Av8CAAMBAwIDAwMEAwUDBgMHAwgDCQMKAwsDDAMNAw4DDwMQAxEDEgMTAxQDFQMWAxcDGAMZAxoDGwMcAx0DHgMfAyADIQMiAyMDJAMlAyYDJwMoAykDKgMrAywDLQMuAy8DMAMxAzIDMwM0AzUDNgM3AzgDOQM6AzsDPAM9Az4DPwNAA0EDQgNDA0QDRQNGA0cDSANJA0oDSwNMA00DTgNPA1ADUQNSA1MDVANVA1YDVwNYA1kDWgNbA1wDXQNeA18DYANhA2IDYwNkA2UDZgNnA2gDaQNqA2sDbANtA24DbwNwA3EDcgNzA3QDdQN2A3cDeAN5A3oDewN8A30DfgN/A4ADgQOCA4MDhAOFA4YDhwOIA4kDigOLA4wDjQOOA48DkAORA5IDkwOUA5UDlgOXA5gDmQOaA5sDnAOdA54DnwOgA6EDogOjA6QDpQOmA6cDqAOpA6oDqwOsA60DrgOvA7ADsQOyA7MDtAO1A7YDtwO4A7kDugO7A7wDvQO+A78DwAPBA8IDwwPEA8UDxgPHA8gDyQPKA8sDzAPNA84DzwPQA9ED0gPTA9QD1QPWA9cD2APZA9oD2wPcA90D3gPfA+AD4QPiA+MD5APlA+YD5wM=",
          "dtype": "i2"
         },
         "xaxis": "x",
         "y": {
          "bdata": "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",
          "dtype": "i2"
         },
         "yaxis": "y"
        }
       ],
       "layout": {
        "legend": {
         "tracegroupgap": 0
        },
        "template": {
         "data": {
          "bar": [
           {
            "error_x": {
             "color": "#2a3f5f"
            },
            "error_y": {
             "color": "#2a3f5f"
            },
            "marker": {
             "line": {
              "color": "#E5ECF6",
              "width": 0.5
             },
             "pattern": {
              "fillmode": "overlay",
              "size": 10,
              "solidity": 0.2
             }
            },
            "type": "bar"
           }
          ],
          "barpolar": [
           {
            "marker": {
             "line": {
              "color": "#E5ECF6",
              "width": 0.5
             },
             "pattern": {
              "fillmode": "overlay",
              "size": 10,
              "solidity": 0.2
             }
            },
            "type": "barpolar"
           }
          ],
          "carpet": [
           {
            "aaxis": {
             "endlinecolor": "#2a3f5f",
             "gridcolor": "white",
             "linecolor": "white",
             "minorgridcolor": "white",
             "startlinecolor": "#2a3f5f"
            },
            "baxis": {
             "endlinecolor": "#2a3f5f",
             "gridcolor": "white",
             "linecolor": "white",
             "minorgridcolor": "white",
             "startlinecolor": "#2a3f5f"
            },
            "type": "carpet"
           }
          ],
          "choropleth": [
           {
            "colorbar": {
             "outlinewidth": 0,
             "ticks": ""
            },
            "type": "choropleth"
           }
          ],
          "contour": [
           {
            "colorbar": {
             "outlinewidth": 0,
             "ticks": ""
            },
            "colorscale": [
             [
              0,
              "#0d0887"
             ],
             [
              0.1111111111111111,
              "#46039f"
             ],
             [
              0.2222222222222222,
              "#7201a8"
             ],
             [
              0.3333333333333333,
              "#9c179e"
             ],
             [
              0.4444444444444444,
              "#bd3786"
             ],
             [
              0.5555555555555556,
              "#d8576b"
             ],
             [
              0.6666666666666666,
              "#ed7953"
             ],
             [
              0.7777777777777778,
              "#fb9f3a"
             ],
             [
              0.8888888888888888,
              "#fdca26"
             ],
             [
              1,
              "#f0f921"
             ]
            ],
            "type": "contour"
           }
          ],
          "contourcarpet": [
           {
            "colorbar": {
             "outlinewidth": 0,
             "ticks": ""
            },
            "type": "contourcarpet"
           }
          ],
          "heatmap": [
           {
            "colorbar": {
             "outlinewidth": 0,
             "ticks": ""
            },
            "colorscale": [
             [
              0,
              "#0d0887"
             ],
             [
              0.1111111111111111,
              "#46039f"
             ],
             [
              0.2222222222222222,
              "#7201a8"
             ],
             [
              0.3333333333333333,
              "#9c179e"
             ],
             [
              0.4444444444444444,
              "#bd3786"
             ],
             [
              0.5555555555555556,
              "#d8576b"
             ],
             [
              0.6666666666666666,
              "#ed7953"
             ],
             [
              0.7777777777777778,
              "#fb9f3a"
             ],
             [
              0.8888888888888888,
              "#fdca26"
             ],
             [
              1,
              "#f0f921"
             ]
            ],
            "type": "heatmap"
           }
          ],
          "histogram": [
           {
            "marker": {
             "pattern": {
              "fillmode": "overlay",
              "size": 10,
              "solidity": 0.2
             }
            },
            "type": "histogram"
           }
          ],
          "histogram2d": [
           {
            "colorbar": {
             "outlinewidth": 0,
             "ticks": ""
            },
            "colorscale": [
             [
              0,
              "#0d0887"
             ],
             [
              0.1111111111111111,
              "#46039f"
             ],
             [
              0.2222222222222222,
              "#7201a8"
             ],
             [
              0.3333333333333333,
              "#9c179e"
             ],
             [
              0.4444444444444444,
              "#bd3786"
             ],
             [
              0.5555555555555556,
              "#d8576b"
             ],
             [
              0.6666666666666666,
              "#ed7953"
             ],
             [
              0.7777777777777778,
              "#fb9f3a"
             ],
             [
              0.8888888888888888,
              "#fdca26"
             ],
             [
              1,
              "#f0f921"
             ]
            ],
            "type": "histogram2d"
           }
          ],
          "histogram2dcontour": [
           {
            "colorbar": {
             "outlinewidth": 0,
             "ticks": ""
            },
            "colorscale": [
             [
              0,
              "#0d0887"
             ],
             [
              0.1111111111111111,
              "#46039f"
             ],
             [
              0.2222222222222222,
              "#7201a8"
             ],
             [
              0.3333333333333333,
              "#9c179e"
             ],
             [
              0.4444444444444444,
              "#bd3786"
             ],
             [
              0.5555555555555556,
              "#d8576b"
             ],
             [
              0.6666666666666666,
              "#ed7953"
             ],
             [
              0.7777777777777778,
              "#fb9f3a"
             ],
             [
              0.8888888888888888,
              "#fdca26"
             ],
             [
              1,
              "#f0f921"
             ]
            ],
            "type": "histogram2dcontour"
           }
          ],
          "mesh3d": [
           {
            "colorbar": {
             "outlinewidth": 0,
             "ticks": ""
            },
            "type": "mesh3d"
           }
          ],
          "parcoords": [
           {
            "line": {
             "colorbar": {
              "outlinewidth": 0,
              "ticks": ""
             }
            },
            "type": "parcoords"
           }
          ],
          "pie": [
           {
            "automargin": true,
            "type": "pie"
           }
          ],
          "scatter": [
           {
            "fillpattern": {
             "fillmode": "overlay",
             "size": 10,
             "solidity": 0.2
            },
            "type": "scatter"
           }
          ],
          "scatter3d": [
           {
            "line": {
             "colorbar": {
              "outlinewidth": 0,
              "ticks": ""
             }
            },
            "marker": {
             "colorbar": {
              "outlinewidth": 0,
              "ticks": ""
             }
            },
            "type": "scatter3d"
           }
          ],
          "scattercarpet": [
           {
            "marker": {
             "colorbar": {
              "outlinewidth": 0,
              "ticks": ""
             }
            },
            "type": "scattercarpet"
           }
          ],
          "scattergeo": [
           {
            "marker": {
             "colorbar": {
              "outlinewidth": 0,
              "ticks": ""
             }
            },
            "type": "scattergeo"
           }
          ],
          "scattergl": [
           {
            "marker": {
             "colorbar": {
              "outlinewidth": 0,
              "ticks": ""
             }
            },
            "type": "scattergl"
           }
          ],
          "scattermap": [
           {
            "marker": {
             "colorbar": {
              "outlinewidth": 0,
              "ticks": ""
             }
            },
            "type": "scattermap"
           }
          ],
          "scattermapbox": [
           {
            "marker": {
             "colorbar": {
              "outlinewidth": 0,
              "ticks": ""
             }
            },
            "type": "scattermapbox"
           }
          ],
          "scatterpolar": [
           {
            "marker": {
             "colorbar": {
              "outlinewidth": 0,
              "ticks": ""
             }
            },
            "type": "scatterpolar"
           }
          ],
          "scatterpolargl": [
           {
            "marker": {
             "colorbar": {
              "outlinewidth": 0,
              "ticks": ""
             }
            },
            "type": "scatterpolargl"
           }
          ],
          "scatterternary": [
           {
            "marker": {
             "colorbar": {
              "outlinewidth": 0,
              "ticks": ""
             }
            },
            "type": "scatterternary"
           }
          ],
          "surface": [
           {
            "colorbar": {
             "outlinewidth": 0,
             "ticks": ""
            },
            "colorscale": [
             [
              0,
              "#0d0887"
             ],
             [
              0.1111111111111111,
              "#46039f"
             ],
             [
              0.2222222222222222,
              "#7201a8"
             ],
             [
              0.3333333333333333,
              "#9c179e"
             ],
             [
              0.4444444444444444,
              "#bd3786"
             ],
             [
              0.5555555555555556,
              "#d8576b"
             ],
             [
              0.6666666666666666,
              "#ed7953"
             ],
             [
              0.7777777777777778,
              "#fb9f3a"
             ],
             [
              0.8888888888888888,
              "#fdca26"
             ],
             [
              1,
              "#f0f921"
             ]
            ],
            "type": "surface"
           }
          ],
          "table": [
           {
            "cells": {
             "fill": {
              "color": "#EBF0F8"
             },
             "line": {
              "color": "white"
             }
            },
            "header": {
             "fill": {
              "color": "#C8D4E3"
             },
             "line": {
              "color": "white"
             }
            },
            "type": "table"
           }
          ]
         },
         "layout": {
          "annotationdefaults": {
           "arrowcolor": "#2a3f5f",
           "arrowhead": 0,
           "arrowwidth": 1
          },
          "autotypenumbers": "strict",
          "coloraxis": {
           "colorbar": {
            "outlinewidth": 0,
            "ticks": ""
           }
          },
          "colorscale": {
           "diverging": [
            [
             0,
             "#8e0152"
            ],
            [
             0.1,
             "#c51b7d"
            ],
            [
             0.2,
             "#de77ae"
            ],
            [
             0.3,
             "#f1b6da"
            ],
            [
             0.4,
             "#fde0ef"
            ],
            [
             0.5,
             "#f7f7f7"
            ],
            [
             0.6,
             "#e6f5d0"
            ],
            [
             0.7,
             "#b8e186"
            ],
            [
             0.8,
             "#7fbc41"
            ],
            [
             0.9,
             "#4d9221"
            ],
            [
             1,
             "#276419"
            ]
           ],
           "sequential": [
            [
             0,
             "#0d0887"
            ],
            [
             0.1111111111111111,
             "#46039f"
            ],
            [
             0.2222222222222222,
             "#7201a8"
            ],
            [
             0.3333333333333333,
             "#9c179e"
            ],
            [
             0.4444444444444444,
             "#bd3786"
            ],
            [
             0.5555555555555556,
             "#d8576b"
            ],
            [
             0.6666666666666666,
             "#ed7953"
            ],
            [
             0.7777777777777778,
             "#fb9f3a"
            ],
            [
             0.8888888888888888,
             "#fdca26"
            ],
            [
             1,
             "#f0f921"
            ]
           ],
           "sequentialminus": [
            [
             0,
             "#0d0887"
            ],
            [
             0.1111111111111111,
             "#46039f"
            ],
            [
             0.2222222222222222,
             "#7201a8"
            ],
            [
             0.3333333333333333,
             "#9c179e"
            ],
            [
             0.4444444444444444,
             "#bd3786"
            ],
            [
             0.5555555555555556,
             "#d8576b"
            ],
            [
             0.6666666666666666,
             "#ed7953"
            ],
            [
             0.7777777777777778,
             "#fb9f3a"
            ],
            [
             0.8888888888888888,
             "#fdca26"
            ],
            [
             1,
             "#f0f921"
            ]
           ]
          },
          "colorway": [
           "#636efa",
           "#EF553B",
           "#00cc96",
           "#ab63fa",
           "#FFA15A",
           "#19d3f3",
           "#FF6692",
           "#B6E880",
           "#FF97FF",
           "#FECB52"
          ],
          "font": {
           "color": "#2a3f5f"
          },
          "geo": {
           "bgcolor": "white",
           "lakecolor": "white",
           "landcolor": "#E5ECF6",
           "showlakes": true,
           "showland": true,
           "subunitcolor": "white"
          },
          "hoverlabel": {
           "align": "left"
          },
          "hovermode": "closest",
          "mapbox": {
           "style": "light"
          },
          "paper_bgcolor": "white",
          "plot_bgcolor": "#E5ECF6",
          "polar": {
           "angularaxis": {
            "gridcolor": "white",
            "linecolor": "white",
            "ticks": ""
           },
           "bgcolor": "#E5ECF6",
           "radialaxis": {
            "gridcolor": "white",
            "linecolor": "white",
            "ticks": ""
           }
          },
          "scene": {
           "xaxis": {
            "backgroundcolor": "#E5ECF6",
            "gridcolor": "white",
            "gridwidth": 2,
            "linecolor": "white",
            "showbackground": true,
            "ticks": "",
            "zerolinecolor": "white"
           },
           "yaxis": {
            "backgroundcolor": "#E5ECF6",
            "gridcolor": "white",
            "gridwidth": 2,
            "linecolor": "white",
            "showbackground": true,
            "ticks": "",
            "zerolinecolor": "white"
           },
           "zaxis": {
            "backgroundcolor": "#E5ECF6",
            "gridcolor": "white",
            "gridwidth": 2,
            "linecolor": "white",
            "showbackground": true,
            "ticks": "",
            "zerolinecolor": "white"
           }
          },
          "shapedefaults": {
           "line": {
            "color": "#2a3f5f"
           }
          },
          "ternary": {
           "aaxis": {
            "gridcolor": "white",
            "linecolor": "white",
            "ticks": ""
           },
           "baxis": {
            "gridcolor": "white",
            "linecolor": "white",
            "ticks": ""
           },
           "bgcolor": "#E5ECF6",
           "caxis": {
            "gridcolor": "white",
            "linecolor": "white",
            "ticks": ""
           }
          },
          "title": {
           "x": 0.05
          },
          "xaxis": {
           "automargin": true,
           "gridcolor": "white",
           "linecolor": "white",
           "ticks": "",
           "title": {
            "standoff": 15
           },
           "zerolinecolor": "white",
           "zerolinewidth": 2
          },
          "yaxis": {
           "automargin": true,
           "gridcolor": "white",
           "linecolor": "white",
           "ticks": "",
           "title": {
            "standoff": 15
           },
           "zerolinecolor": "white",
           "zerolinewidth": 2
          }
         }
        },
        "title": {
         "text": "Line Plot of X_train Values"
        },
        "xaxis": {
         "anchor": "y",
         "domain": [
          0,
          1
         ],
         "title": {
          "text": "Index"
         }
        },
        "yaxis": {
         "anchor": "x",
         "domain": [
          0,
          1
         ],
         "title": {
          "text": "Value"
         }
        }
       }
      }
     },
     "metadata": {},
     "output_type": "display_data"
    }
   ],
   "source": [
    "# Convert the data to a list\n",
    "X_train_list = X_train.flatten().tolist()\n",
    "print(X_train_list)\n",
    "\n",
    "# Plot a line of the values in the training set\n",
    "fig = px.line(y=X_train_list, x=range(len(X_train_list)), title='Line Plot of X_train Values')\n",
    "fig.update_layout(xaxis_title='Index', yaxis_title='Value') \n",
    "fig.show()"
   ]
  },
  {
   "cell_type": "code",
   "execution_count": 13,
   "id": "9c473b87",
   "metadata": {},
   "outputs": [],
   "source": [
    "import pandas as pd"
   ]
  },
  {
   "cell_type": "code",
   "execution_count": 14,
   "id": "48202aab",
   "metadata": {},
   "outputs": [],
   "source": [
    "df = pd.DataFrame(X_train_list, columns=['label'])"
   ]
  },
  {
   "cell_type": "code",
   "execution_count": 15,
   "id": "01813797",
   "metadata": {},
   "outputs": [
    {
     "data": {
      "text/html": [
       "<div>\n",
       "<style scoped>\n",
       "    .dataframe tbody tr th:only-of-type {\n",
       "        vertical-align: middle;\n",
       "    }\n",
       "\n",
       "    .dataframe tbody tr th {\n",
       "        vertical-align: top;\n",
       "    }\n",
       "\n",
       "    .dataframe thead th {\n",
       "        text-align: right;\n",
       "    }\n",
       "</style>\n",
       "<table border=\"1\" class=\"dataframe\">\n",
       "  <thead>\n",
       "    <tr style=\"text-align: right;\">\n",
       "      <th></th>\n",
       "      <th>label</th>\n",
       "    </tr>\n",
       "  </thead>\n",
       "  <tbody>\n",
       "    <tr>\n",
       "      <th>0</th>\n",
       "      <td>86</td>\n",
       "    </tr>\n",
       "    <tr>\n",
       "      <th>1</th>\n",
       "      <td>141</td>\n",
       "    </tr>\n",
       "    <tr>\n",
       "      <th>2</th>\n",
       "      <td>95</td>\n",
       "    </tr>\n",
       "    <tr>\n",
       "      <th>3</th>\n",
       "      <td>41</td>\n",
       "    </tr>\n",
       "    <tr>\n",
       "      <th>4</th>\n",
       "      <td>22</td>\n",
       "    </tr>\n",
       "    <tr>\n",
       "      <th>...</th>\n",
       "      <td>...</td>\n",
       "    </tr>\n",
       "    <tr>\n",
       "      <th>995</th>\n",
       "      <td>61</td>\n",
       "    </tr>\n",
       "    <tr>\n",
       "      <th>996</th>\n",
       "      <td>20</td>\n",
       "    </tr>\n",
       "    <tr>\n",
       "      <th>997</th>\n",
       "      <td>12</td>\n",
       "    </tr>\n",
       "    <tr>\n",
       "      <th>998</th>\n",
       "      <td>13</td>\n",
       "    </tr>\n",
       "    <tr>\n",
       "      <th>999</th>\n",
       "      <td>23</td>\n",
       "    </tr>\n",
       "  </tbody>\n",
       "</table>\n",
       "<p>1000 rows × 1 columns</p>\n",
       "</div>"
      ],
      "text/plain": [
       "     label\n",
       "0       86\n",
       "1      141\n",
       "2       95\n",
       "3       41\n",
       "4       22\n",
       "..     ...\n",
       "995     61\n",
       "996     20\n",
       "997     12\n",
       "998     13\n",
       "999     23\n",
       "\n",
       "[1000 rows x 1 columns]"
      ]
     },
     "execution_count": 15,
     "metadata": {},
     "output_type": "execute_result"
    }
   ],
   "source": [
    "df"
   ]
  },
  {
   "cell_type": "code",
   "execution_count": 24,
   "id": "d66e0144",
   "metadata": {},
   "outputs": [
    {
     "name": "stderr",
     "output_type": "stream",
     "text": [
      "C:\\Users\\niek0\\AppData\\Local\\Temp\\ipykernel_15408\\805690895.py:3: PerformanceWarning:\n",
      "\n",
      "DataFrame is highly fragmented.  This is usually the result of calling `frame.insert` many times, which has poor performance.  Consider joining all columns at once using pd.concat(axis=1) instead. To get a de-fragmented frame, use `newframe = frame.copy()`\n",
      "\n"
     ]
    }
   ],
   "source": [
    "n_lags = 100\n",
    "for i in range(1, n_lags + 1):\n",
    "    df[f'lag {i}'] = df['label'].shift(i)"
   ]
  },
  {
   "cell_type": "code",
   "execution_count": 25,
   "id": "febbe68a",
   "metadata": {},
   "outputs": [
    {
     "data": {
      "text/html": [
       "<div>\n",
       "<style scoped>\n",
       "    .dataframe tbody tr th:only-of-type {\n",
       "        vertical-align: middle;\n",
       "    }\n",
       "\n",
       "    .dataframe tbody tr th {\n",
       "        vertical-align: top;\n",
       "    }\n",
       "\n",
       "    .dataframe thead th {\n",
       "        text-align: right;\n",
       "    }\n",
       "</style>\n",
       "<table border=\"1\" class=\"dataframe\">\n",
       "  <thead>\n",
       "    <tr style=\"text-align: right;\">\n",
       "      <th></th>\n",
       "      <th>label</th>\n",
       "      <th>lag 1</th>\n",
       "      <th>lag 2</th>\n",
       "      <th>lag 3</th>\n",
       "      <th>lag 4</th>\n",
       "      <th>lag 5</th>\n",
       "      <th>lag 6</th>\n",
       "      <th>lag 7</th>\n",
       "      <th>lag 8</th>\n",
       "      <th>lag 9</th>\n",
       "      <th>...</th>\n",
       "      <th>lag 91</th>\n",
       "      <th>lag 92</th>\n",
       "      <th>lag 93</th>\n",
       "      <th>lag 94</th>\n",
       "      <th>lag 95</th>\n",
       "      <th>lag 96</th>\n",
       "      <th>lag 97</th>\n",
       "      <th>lag 98</th>\n",
       "      <th>lag 99</th>\n",
       "      <th>lag 100</th>\n",
       "    </tr>\n",
       "  </thead>\n",
       "  <tbody>\n",
       "    <tr>\n",
       "      <th>112</th>\n",
       "      <td>140</td>\n",
       "      <td>163.0</td>\n",
       "      <td>60.0</td>\n",
       "      <td>20.0</td>\n",
       "      <td>13.0</td>\n",
       "      <td>14.0</td>\n",
       "      <td>26.0</td>\n",
       "      <td>80.0</td>\n",
       "      <td>176.0</td>\n",
       "      <td>111.0</td>\n",
       "      <td>...</td>\n",
       "      <td>46.0</td>\n",
       "      <td>24.0</td>\n",
       "      <td>19.0</td>\n",
       "      <td>27.0</td>\n",
       "      <td>58.0</td>\n",
       "      <td>129.0</td>\n",
       "      <td>129.0</td>\n",
       "      <td>59.0</td>\n",
       "      <td>27.0</td>\n",
       "      <td>19.0</td>\n",
       "    </tr>\n",
       "    <tr>\n",
       "      <th>113</th>\n",
       "      <td>45</td>\n",
       "      <td>140.0</td>\n",
       "      <td>163.0</td>\n",
       "      <td>60.0</td>\n",
       "      <td>20.0</td>\n",
       "      <td>13.0</td>\n",
       "      <td>14.0</td>\n",
       "      <td>26.0</td>\n",
       "      <td>80.0</td>\n",
       "      <td>176.0</td>\n",
       "      <td>...</td>\n",
       "      <td>112.0</td>\n",
       "      <td>46.0</td>\n",
       "      <td>24.0</td>\n",
       "      <td>19.0</td>\n",
       "      <td>27.0</td>\n",
       "      <td>58.0</td>\n",
       "      <td>129.0</td>\n",
       "      <td>129.0</td>\n",
       "      <td>59.0</td>\n",
       "      <td>27.0</td>\n",
       "    </tr>\n",
       "    <tr>\n",
       "      <th>114</th>\n",
       "      <td>18</td>\n",
       "      <td>45.0</td>\n",
       "      <td>140.0</td>\n",
       "      <td>163.0</td>\n",
       "      <td>60.0</td>\n",
       "      <td>20.0</td>\n",
       "      <td>13.0</td>\n",
       "      <td>14.0</td>\n",
       "      <td>26.0</td>\n",
       "      <td>80.0</td>\n",
       "      <td>...</td>\n",
       "      <td>144.0</td>\n",
       "      <td>112.0</td>\n",
       "      <td>46.0</td>\n",
       "      <td>24.0</td>\n",
       "      <td>19.0</td>\n",
       "      <td>27.0</td>\n",
       "      <td>58.0</td>\n",
       "      <td>129.0</td>\n",
       "      <td>129.0</td>\n",
       "      <td>59.0</td>\n",
       "    </tr>\n",
       "    <tr>\n",
       "      <th>115</th>\n",
       "      <td>12</td>\n",
       "      <td>18.0</td>\n",
       "      <td>45.0</td>\n",
       "      <td>140.0</td>\n",
       "      <td>163.0</td>\n",
       "      <td>60.0</td>\n",
       "      <td>20.0</td>\n",
       "      <td>13.0</td>\n",
       "      <td>14.0</td>\n",
       "      <td>26.0</td>\n",
       "      <td>...</td>\n",
       "      <td>73.0</td>\n",
       "      <td>144.0</td>\n",
       "      <td>112.0</td>\n",
       "      <td>46.0</td>\n",
       "      <td>24.0</td>\n",
       "      <td>19.0</td>\n",
       "      <td>27.0</td>\n",
       "      <td>58.0</td>\n",
       "      <td>129.0</td>\n",
       "      <td>129.0</td>\n",
       "    </tr>\n",
       "    <tr>\n",
       "      <th>116</th>\n",
       "      <td>14</td>\n",
       "      <td>12.0</td>\n",
       "      <td>18.0</td>\n",
       "      <td>45.0</td>\n",
       "      <td>140.0</td>\n",
       "      <td>163.0</td>\n",
       "      <td>60.0</td>\n",
       "      <td>20.0</td>\n",
       "      <td>13.0</td>\n",
       "      <td>14.0</td>\n",
       "      <td>...</td>\n",
       "      <td>30.0</td>\n",
       "      <td>73.0</td>\n",
       "      <td>144.0</td>\n",
       "      <td>112.0</td>\n",
       "      <td>46.0</td>\n",
       "      <td>24.0</td>\n",
       "      <td>19.0</td>\n",
       "      <td>27.0</td>\n",
       "      <td>58.0</td>\n",
       "      <td>129.0</td>\n",
       "    </tr>\n",
       "    <tr>\n",
       "      <th>...</th>\n",
       "      <td>...</td>\n",
       "      <td>...</td>\n",
       "      <td>...</td>\n",
       "      <td>...</td>\n",
       "      <td>...</td>\n",
       "      <td>...</td>\n",
       "      <td>...</td>\n",
       "      <td>...</td>\n",
       "      <td>...</td>\n",
       "      <td>...</td>\n",
       "      <td>...</td>\n",
       "      <td>...</td>\n",
       "      <td>...</td>\n",
       "      <td>...</td>\n",
       "      <td>...</td>\n",
       "      <td>...</td>\n",
       "      <td>...</td>\n",
       "      <td>...</td>\n",
       "      <td>...</td>\n",
       "      <td>...</td>\n",
       "      <td>...</td>\n",
       "    </tr>\n",
       "    <tr>\n",
       "      <th>995</th>\n",
       "      <td>61</td>\n",
       "      <td>166.0</td>\n",
       "      <td>136.0</td>\n",
       "      <td>45.0</td>\n",
       "      <td>18.0</td>\n",
       "      <td>12.0</td>\n",
       "      <td>15.0</td>\n",
       "      <td>33.0</td>\n",
       "      <td>103.0</td>\n",
       "      <td>179.0</td>\n",
       "      <td>...</td>\n",
       "      <td>104.0</td>\n",
       "      <td>41.0</td>\n",
       "      <td>20.0</td>\n",
       "      <td>18.0</td>\n",
       "      <td>26.0</td>\n",
       "      <td>62.0</td>\n",
       "      <td>134.0</td>\n",
       "      <td>122.0</td>\n",
       "      <td>52.0</td>\n",
       "      <td>25.0</td>\n",
       "    </tr>\n",
       "    <tr>\n",
       "      <th>996</th>\n",
       "      <td>20</td>\n",
       "      <td>61.0</td>\n",
       "      <td>166.0</td>\n",
       "      <td>136.0</td>\n",
       "      <td>45.0</td>\n",
       "      <td>18.0</td>\n",
       "      <td>12.0</td>\n",
       "      <td>15.0</td>\n",
       "      <td>33.0</td>\n",
       "      <td>103.0</td>\n",
       "      <td>...</td>\n",
       "      <td>148.0</td>\n",
       "      <td>104.0</td>\n",
       "      <td>41.0</td>\n",
       "      <td>20.0</td>\n",
       "      <td>18.0</td>\n",
       "      <td>26.0</td>\n",
       "      <td>62.0</td>\n",
       "      <td>134.0</td>\n",
       "      <td>122.0</td>\n",
       "      <td>52.0</td>\n",
       "    </tr>\n",
       "    <tr>\n",
       "      <th>997</th>\n",
       "      <td>12</td>\n",
       "      <td>20.0</td>\n",
       "      <td>61.0</td>\n",
       "      <td>166.0</td>\n",
       "      <td>136.0</td>\n",
       "      <td>45.0</td>\n",
       "      <td>18.0</td>\n",
       "      <td>12.0</td>\n",
       "      <td>15.0</td>\n",
       "      <td>33.0</td>\n",
       "      <td>...</td>\n",
       "      <td>79.0</td>\n",
       "      <td>148.0</td>\n",
       "      <td>104.0</td>\n",
       "      <td>41.0</td>\n",
       "      <td>20.0</td>\n",
       "      <td>18.0</td>\n",
       "      <td>26.0</td>\n",
       "      <td>62.0</td>\n",
       "      <td>134.0</td>\n",
       "      <td>122.0</td>\n",
       "    </tr>\n",
       "    <tr>\n",
       "      <th>998</th>\n",
       "      <td>13</td>\n",
       "      <td>12.0</td>\n",
       "      <td>20.0</td>\n",
       "      <td>61.0</td>\n",
       "      <td>166.0</td>\n",
       "      <td>136.0</td>\n",
       "      <td>45.0</td>\n",
       "      <td>18.0</td>\n",
       "      <td>12.0</td>\n",
       "      <td>15.0</td>\n",
       "      <td>...</td>\n",
       "      <td>32.0</td>\n",
       "      <td>79.0</td>\n",
       "      <td>148.0</td>\n",
       "      <td>104.0</td>\n",
       "      <td>41.0</td>\n",
       "      <td>20.0</td>\n",
       "      <td>18.0</td>\n",
       "      <td>26.0</td>\n",
       "      <td>62.0</td>\n",
       "      <td>134.0</td>\n",
       "    </tr>\n",
       "    <tr>\n",
       "      <th>999</th>\n",
       "      <td>23</td>\n",
       "      <td>13.0</td>\n",
       "      <td>12.0</td>\n",
       "      <td>20.0</td>\n",
       "      <td>61.0</td>\n",
       "      <td>166.0</td>\n",
       "      <td>136.0</td>\n",
       "      <td>45.0</td>\n",
       "      <td>18.0</td>\n",
       "      <td>12.0</td>\n",
       "      <td>...</td>\n",
       "      <td>18.0</td>\n",
       "      <td>32.0</td>\n",
       "      <td>79.0</td>\n",
       "      <td>148.0</td>\n",
       "      <td>104.0</td>\n",
       "      <td>41.0</td>\n",
       "      <td>20.0</td>\n",
       "      <td>18.0</td>\n",
       "      <td>26.0</td>\n",
       "      <td>62.0</td>\n",
       "    </tr>\n",
       "  </tbody>\n",
       "</table>\n",
       "<p>888 rows × 101 columns</p>\n",
       "</div>"
      ],
      "text/plain": [
       "     label  lag 1  lag 2  lag 3  lag 4  lag 5  lag 6  lag 7  lag 8  lag 9  \\\n",
       "112    140  163.0   60.0   20.0   13.0   14.0   26.0   80.0  176.0  111.0   \n",
       "113     45  140.0  163.0   60.0   20.0   13.0   14.0   26.0   80.0  176.0   \n",
       "114     18   45.0  140.0  163.0   60.0   20.0   13.0   14.0   26.0   80.0   \n",
       "115     12   18.0   45.0  140.0  163.0   60.0   20.0   13.0   14.0   26.0   \n",
       "116     14   12.0   18.0   45.0  140.0  163.0   60.0   20.0   13.0   14.0   \n",
       "..     ...    ...    ...    ...    ...    ...    ...    ...    ...    ...   \n",
       "995     61  166.0  136.0   45.0   18.0   12.0   15.0   33.0  103.0  179.0   \n",
       "996     20   61.0  166.0  136.0   45.0   18.0   12.0   15.0   33.0  103.0   \n",
       "997     12   20.0   61.0  166.0  136.0   45.0   18.0   12.0   15.0   33.0   \n",
       "998     13   12.0   20.0   61.0  166.0  136.0   45.0   18.0   12.0   15.0   \n",
       "999     23   13.0   12.0   20.0   61.0  166.0  136.0   45.0   18.0   12.0   \n",
       "\n",
       "     ...  lag 91  lag 92  lag 93  lag 94  lag 95  lag 96  lag 97  lag 98  \\\n",
       "112  ...    46.0    24.0    19.0    27.0    58.0   129.0   129.0    59.0   \n",
       "113  ...   112.0    46.0    24.0    19.0    27.0    58.0   129.0   129.0   \n",
       "114  ...   144.0   112.0    46.0    24.0    19.0    27.0    58.0   129.0   \n",
       "115  ...    73.0   144.0   112.0    46.0    24.0    19.0    27.0    58.0   \n",
       "116  ...    30.0    73.0   144.0   112.0    46.0    24.0    19.0    27.0   \n",
       "..   ...     ...     ...     ...     ...     ...     ...     ...     ...   \n",
       "995  ...   104.0    41.0    20.0    18.0    26.0    62.0   134.0   122.0   \n",
       "996  ...   148.0   104.0    41.0    20.0    18.0    26.0    62.0   134.0   \n",
       "997  ...    79.0   148.0   104.0    41.0    20.0    18.0    26.0    62.0   \n",
       "998  ...    32.0    79.0   148.0   104.0    41.0    20.0    18.0    26.0   \n",
       "999  ...    18.0    32.0    79.0   148.0   104.0    41.0    20.0    18.0   \n",
       "\n",
       "     lag 99  lag 100  \n",
       "112    27.0     19.0  \n",
       "113    59.0     27.0  \n",
       "114   129.0     59.0  \n",
       "115   129.0    129.0  \n",
       "116    58.0    129.0  \n",
       "..      ...      ...  \n",
       "995    52.0     25.0  \n",
       "996   122.0     52.0  \n",
       "997   134.0    122.0  \n",
       "998    62.0    134.0  \n",
       "999    26.0     62.0  \n",
       "\n",
       "[888 rows x 101 columns]"
      ]
     },
     "execution_count": 25,
     "metadata": {},
     "output_type": "execute_result"
    }
   ],
   "source": [
    "df.dropna(inplace=True)\n",
    "df"
   ]
  },
  {
   "cell_type": "code",
   "execution_count": 26,
   "id": "28b00fc0",
   "metadata": {},
   "outputs": [
    {
     "data": {
      "application/vnd.plotly.v1+json": {
       "config": {
        "plotlyServerURL": "https://plot.ly"
       },
       "data": [
        {
         "coloraxis": "coloraxis",
         "hovertemplate": "x: %{x}<br>y: %{y}<br>color: %{z}<extra></extra>",
         "name": "0",
         "texttemplate": "%{z}",
         "type": "heatmap",
         "x": [
          "label",
          "lag 1",
          "lag 2",
          "lag 3",
          "lag 4",
          "lag 5",
          "lag 6",
          "lag 7",
          "lag 8",
          "lag 9",
          "lag 10",
          "lag 11",
          "lag 12",
          "lag 13",
          "lag 14",
          "lag 15",
          "lag 16",
          "lag 17",
          "lag 18",
          "lag 19",
          "lag 20",
          "lag 21",
          "lag 22",
          "lag 23",
          "lag 24",
          "lag 25",
          "lag 26",
          "lag 27",
          "lag 28",
          "lag 29",
          "lag 30",
          "lag 31",
          "lag 32",
          "lag 33",
          "lag 34",
          "lag 35",
          "lag 36",
          "lag 37",
          "lag 38",
          "lag 39",
          "lag 40",
          "lag 41",
          "lag 42",
          "lag 43",
          "lag 44",
          "lag 45",
          "lag 46",
          "lag 47",
          "lag 48",
          "lag 49",
          "lag 50",
          "lag 51",
          "lag 52",
          "lag 53",
          "lag 54",
          "lag 55",
          "lag 56",
          "lag 57",
          "lag 58",
          "lag 59",
          "lag 60",
          "lag 61",
          "lag 62",
          "lag 63",
          "lag 64",
          "lag 65",
          "lag 66",
          "lag 67",
          "lag 68",
          "lag 69",
          "lag 70",
          "lag 71",
          "lag 72",
          "lag 73",
          "lag 74",
          "lag 75",
          "lag 76",
          "lag 77",
          "lag 78",
          "lag 79",
          "lag 80",
          "lag 81",
          "lag 82",
          "lag 83",
          "lag 84",
          "lag 85",
          "lag 86",
          "lag 87",
          "lag 88",
          "lag 89",
          "lag 90",
          "lag 91",
          "lag 92",
          "lag 93",
          "lag 94",
          "lag 95",
          "lag 96",
          "lag 97",
          "lag 98",
          "lag 99",
          "lag 100"
         ],
         "xaxis": "x",
         "y": [
          "label",
          "lag 1",
          "lag 2",
          "lag 3",
          "lag 4",
          "lag 5",
          "lag 6",
          "lag 7",
          "lag 8",
          "lag 9",
          "lag 10",
          "lag 11",
          "lag 12",
          "lag 13",
          "lag 14",
          "lag 15",
          "lag 16",
          "lag 17",
          "lag 18",
          "lag 19",
          "lag 20",
          "lag 21",
          "lag 22",
          "lag 23",
          "lag 24",
          "lag 25",
          "lag 26",
          "lag 27",
          "lag 28",
          "lag 29",
          "lag 30",
          "lag 31",
          "lag 32",
          "lag 33",
          "lag 34",
          "lag 35",
          "lag 36",
          "lag 37",
          "lag 38",
          "lag 39",
          "lag 40",
          "lag 41",
          "lag 42",
          "lag 43",
          "lag 44",
          "lag 45",
          "lag 46",
          "lag 47",
          "lag 48",
          "lag 49",
          "lag 50",
          "lag 51",
          "lag 52",
          "lag 53",
          "lag 54",
          "lag 55",
          "lag 56",
          "lag 57",
          "lag 58",
          "lag 59",
          "lag 60",
          "lag 61",
          "lag 62",
          "lag 63",
          "lag 64",
          "lag 65",
          "lag 66",
          "lag 67",
          "lag 68",
          "lag 69",
          "lag 70",
          "lag 71",
          "lag 72",
          "lag 73",
          "lag 74",
          "lag 75",
          "lag 76",
          "lag 77",
          "lag 78",
          "lag 79",
          "lag 80",
          "lag 81",
          "lag 82",
          "lag 83",
          "lag 84",
          "lag 85",
          "lag 86",
          "lag 87",
          "lag 88",
          "lag 89",
          "lag 90",
          "lag 91",
          "lag 92",
          "lag 93",
          "lag 94",
          "lag 95",
          "lag 96",
          "lag 97",
          "lag 98",
          "lag 99",
          "lag 100"
         ],
         "yaxis": "y",
         "z": {
          "bdata": "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",
          "dtype": "f8",
          "shape": "101, 101"
         }
        }
       ],
       "layout": {
        "coloraxis": {
         "colorscale": [
          [
           0,
           "#0d0887"
          ],
          [
           0.1111111111111111,
           "#46039f"
          ],
          [
           0.2222222222222222,
           "#7201a8"
          ],
          [
           0.3333333333333333,
           "#9c179e"
          ],
          [
           0.4444444444444444,
           "#bd3786"
          ],
          [
           0.5555555555555556,
           "#d8576b"
          ],
          [
           0.6666666666666666,
           "#ed7953"
          ],
          [
           0.7777777777777778,
           "#fb9f3a"
          ],
          [
           0.8888888888888888,
           "#fdca26"
          ],
          [
           1,
           "#f0f921"
          ]
         ]
        },
        "template": {
         "data": {
          "bar": [
           {
            "error_x": {
             "color": "#2a3f5f"
            },
            "error_y": {
             "color": "#2a3f5f"
            },
            "marker": {
             "line": {
              "color": "#E5ECF6",
              "width": 0.5
             },
             "pattern": {
              "fillmode": "overlay",
              "size": 10,
              "solidity": 0.2
             }
            },
            "type": "bar"
           }
          ],
          "barpolar": [
           {
            "marker": {
             "line": {
              "color": "#E5ECF6",
              "width": 0.5
             },
             "pattern": {
              "fillmode": "overlay",
              "size": 10,
              "solidity": 0.2
             }
            },
            "type": "barpolar"
           }
          ],
          "carpet": [
           {
            "aaxis": {
             "endlinecolor": "#2a3f5f",
             "gridcolor": "white",
             "linecolor": "white",
             "minorgridcolor": "white",
             "startlinecolor": "#2a3f5f"
            },
            "baxis": {
             "endlinecolor": "#2a3f5f",
             "gridcolor": "white",
             "linecolor": "white",
             "minorgridcolor": "white",
             "startlinecolor": "#2a3f5f"
            },
            "type": "carpet"
           }
          ],
          "choropleth": [
           {
            "colorbar": {
             "outlinewidth": 0,
             "ticks": ""
            },
            "type": "choropleth"
           }
          ],
          "contour": [
           {
            "colorbar": {
             "outlinewidth": 0,
             "ticks": ""
            },
            "colorscale": [
             [
              0,
              "#0d0887"
             ],
             [
              0.1111111111111111,
              "#46039f"
             ],
             [
              0.2222222222222222,
              "#7201a8"
             ],
             [
              0.3333333333333333,
              "#9c179e"
             ],
             [
              0.4444444444444444,
              "#bd3786"
             ],
             [
              0.5555555555555556,
              "#d8576b"
             ],
             [
              0.6666666666666666,
              "#ed7953"
             ],
             [
              0.7777777777777778,
              "#fb9f3a"
             ],
             [
              0.8888888888888888,
              "#fdca26"
             ],
             [
              1,
              "#f0f921"
             ]
            ],
            "type": "contour"
           }
          ],
          "contourcarpet": [
           {
            "colorbar": {
             "outlinewidth": 0,
             "ticks": ""
            },
            "type": "contourcarpet"
           }
          ],
          "heatmap": [
           {
            "colorbar": {
             "outlinewidth": 0,
             "ticks": ""
            },
            "colorscale": [
             [
              0,
              "#0d0887"
             ],
             [
              0.1111111111111111,
              "#46039f"
             ],
             [
              0.2222222222222222,
              "#7201a8"
             ],
             [
              0.3333333333333333,
              "#9c179e"
             ],
             [
              0.4444444444444444,
              "#bd3786"
             ],
             [
              0.5555555555555556,
              "#d8576b"
             ],
             [
              0.6666666666666666,
              "#ed7953"
             ],
             [
              0.7777777777777778,
              "#fb9f3a"
             ],
             [
              0.8888888888888888,
              "#fdca26"
             ],
             [
              1,
              "#f0f921"
             ]
            ],
            "type": "heatmap"
           }
          ],
          "histogram": [
           {
            "marker": {
             "pattern": {
              "fillmode": "overlay",
              "size": 10,
              "solidity": 0.2
             }
            },
            "type": "histogram"
           }
          ],
          "histogram2d": [
           {
            "colorbar": {
             "outlinewidth": 0,
             "ticks": ""
            },
            "colorscale": [
             [
              0,
              "#0d0887"
             ],
             [
              0.1111111111111111,
              "#46039f"
             ],
             [
              0.2222222222222222,
              "#7201a8"
             ],
             [
              0.3333333333333333,
              "#9c179e"
             ],
             [
              0.4444444444444444,
              "#bd3786"
             ],
             [
              0.5555555555555556,
              "#d8576b"
             ],
             [
              0.6666666666666666,
              "#ed7953"
             ],
             [
              0.7777777777777778,
              "#fb9f3a"
             ],
             [
              0.8888888888888888,
              "#fdca26"
             ],
             [
              1,
              "#f0f921"
             ]
            ],
            "type": "histogram2d"
           }
          ],
          "histogram2dcontour": [
           {
            "colorbar": {
             "outlinewidth": 0,
             "ticks": ""
            },
            "colorscale": [
             [
              0,
              "#0d0887"
             ],
             [
              0.1111111111111111,
              "#46039f"
             ],
             [
              0.2222222222222222,
              "#7201a8"
             ],
             [
              0.3333333333333333,
              "#9c179e"
             ],
             [
              0.4444444444444444,
              "#bd3786"
             ],
             [
              0.5555555555555556,
              "#d8576b"
             ],
             [
              0.6666666666666666,
              "#ed7953"
             ],
             [
              0.7777777777777778,
              "#fb9f3a"
             ],
             [
              0.8888888888888888,
              "#fdca26"
             ],
             [
              1,
              "#f0f921"
             ]
            ],
            "type": "histogram2dcontour"
           }
          ],
          "mesh3d": [
           {
            "colorbar": {
             "outlinewidth": 0,
             "ticks": ""
            },
            "type": "mesh3d"
           }
          ],
          "parcoords": [
           {
            "line": {
             "colorbar": {
              "outlinewidth": 0,
              "ticks": ""
             }
            },
            "type": "parcoords"
           }
          ],
          "pie": [
           {
            "automargin": true,
            "type": "pie"
           }
          ],
          "scatter": [
           {
            "fillpattern": {
             "fillmode": "overlay",
             "size": 10,
             "solidity": 0.2
            },
            "type": "scatter"
           }
          ],
          "scatter3d": [
           {
            "line": {
             "colorbar": {
              "outlinewidth": 0,
              "ticks": ""
             }
            },
            "marker": {
             "colorbar": {
              "outlinewidth": 0,
              "ticks": ""
             }
            },
            "type": "scatter3d"
           }
          ],
          "scattercarpet": [
           {
            "marker": {
             "colorbar": {
              "outlinewidth": 0,
              "ticks": ""
             }
            },
            "type": "scattercarpet"
           }
          ],
          "scattergeo": [
           {
            "marker": {
             "colorbar": {
              "outlinewidth": 0,
              "ticks": ""
             }
            },
            "type": "scattergeo"
           }
          ],
          "scattergl": [
           {
            "marker": {
             "colorbar": {
              "outlinewidth": 0,
              "ticks": ""
             }
            },
            "type": "scattergl"
           }
          ],
          "scattermap": [
           {
            "marker": {
             "colorbar": {
              "outlinewidth": 0,
              "ticks": ""
             }
            },
            "type": "scattermap"
           }
          ],
          "scattermapbox": [
           {
            "marker": {
             "colorbar": {
              "outlinewidth": 0,
              "ticks": ""
             }
            },
            "type": "scattermapbox"
           }
          ],
          "scatterpolar": [
           {
            "marker": {
             "colorbar": {
              "outlinewidth": 0,
              "ticks": ""
             }
            },
            "type": "scatterpolar"
           }
          ],
          "scatterpolargl": [
           {
            "marker": {
             "colorbar": {
              "outlinewidth": 0,
              "ticks": ""
             }
            },
            "type": "scatterpolargl"
           }
          ],
          "scatterternary": [
           {
            "marker": {
             "colorbar": {
              "outlinewidth": 0,
              "ticks": ""
             }
            },
            "type": "scatterternary"
           }
          ],
          "surface": [
           {
            "colorbar": {
             "outlinewidth": 0,
             "ticks": ""
            },
            "colorscale": [
             [
              0,
              "#0d0887"
             ],
             [
              0.1111111111111111,
              "#46039f"
             ],
             [
              0.2222222222222222,
              "#7201a8"
             ],
             [
              0.3333333333333333,
              "#9c179e"
             ],
             [
              0.4444444444444444,
              "#bd3786"
             ],
             [
              0.5555555555555556,
              "#d8576b"
             ],
             [
              0.6666666666666666,
              "#ed7953"
             ],
             [
              0.7777777777777778,
              "#fb9f3a"
             ],
             [
              0.8888888888888888,
              "#fdca26"
             ],
             [
              1,
              "#f0f921"
             ]
            ],
            "type": "surface"
           }
          ],
          "table": [
           {
            "cells": {
             "fill": {
              "color": "#EBF0F8"
             },
             "line": {
              "color": "white"
             }
            },
            "header": {
             "fill": {
              "color": "#C8D4E3"
             },
             "line": {
              "color": "white"
             }
            },
            "type": "table"
           }
          ]
         },
         "layout": {
          "annotationdefaults": {
           "arrowcolor": "#2a3f5f",
           "arrowhead": 0,
           "arrowwidth": 1
          },
          "autotypenumbers": "strict",
          "coloraxis": {
           "colorbar": {
            "outlinewidth": 0,
            "ticks": ""
           }
          },
          "colorscale": {
           "diverging": [
            [
             0,
             "#8e0152"
            ],
            [
             0.1,
             "#c51b7d"
            ],
            [
             0.2,
             "#de77ae"
            ],
            [
             0.3,
             "#f1b6da"
            ],
            [
             0.4,
             "#fde0ef"
            ],
            [
             0.5,
             "#f7f7f7"
            ],
            [
             0.6,
             "#e6f5d0"
            ],
            [
             0.7,
             "#b8e186"
            ],
            [
             0.8,
             "#7fbc41"
            ],
            [
             0.9,
             "#4d9221"
            ],
            [
             1,
             "#276419"
            ]
           ],
           "sequential": [
            [
             0,
             "#0d0887"
            ],
            [
             0.1111111111111111,
             "#46039f"
            ],
            [
             0.2222222222222222,
             "#7201a8"
            ],
            [
             0.3333333333333333,
             "#9c179e"
            ],
            [
             0.4444444444444444,
             "#bd3786"
            ],
            [
             0.5555555555555556,
             "#d8576b"
            ],
            [
             0.6666666666666666,
             "#ed7953"
            ],
            [
             0.7777777777777778,
             "#fb9f3a"
            ],
            [
             0.8888888888888888,
             "#fdca26"
            ],
            [
             1,
             "#f0f921"
            ]
           ],
           "sequentialminus": [
            [
             0,
             "#0d0887"
            ],
            [
             0.1111111111111111,
             "#46039f"
            ],
            [
             0.2222222222222222,
             "#7201a8"
            ],
            [
             0.3333333333333333,
             "#9c179e"
            ],
            [
             0.4444444444444444,
             "#bd3786"
            ],
            [
             0.5555555555555556,
             "#d8576b"
            ],
            [
             0.6666666666666666,
             "#ed7953"
            ],
            [
             0.7777777777777778,
             "#fb9f3a"
            ],
            [
             0.8888888888888888,
             "#fdca26"
            ],
            [
             1,
             "#f0f921"
            ]
           ]
          },
          "colorway": [
           "#636efa",
           "#EF553B",
           "#00cc96",
           "#ab63fa",
           "#FFA15A",
           "#19d3f3",
           "#FF6692",
           "#B6E880",
           "#FF97FF",
           "#FECB52"
          ],
          "font": {
           "color": "#2a3f5f"
          },
          "geo": {
           "bgcolor": "white",
           "lakecolor": "white",
           "landcolor": "#E5ECF6",
           "showlakes": true,
           "showland": true,
           "subunitcolor": "white"
          },
          "hoverlabel": {
           "align": "left"
          },
          "hovermode": "closest",
          "mapbox": {
           "style": "light"
          },
          "paper_bgcolor": "white",
          "plot_bgcolor": "#E5ECF6",
          "polar": {
           "angularaxis": {
            "gridcolor": "white",
            "linecolor": "white",
            "ticks": ""
           },
           "bgcolor": "#E5ECF6",
           "radialaxis": {
            "gridcolor": "white",
            "linecolor": "white",
            "ticks": ""
           }
          },
          "scene": {
           "xaxis": {
            "backgroundcolor": "#E5ECF6",
            "gridcolor": "white",
            "gridwidth": 2,
            "linecolor": "white",
            "showbackground": true,
            "ticks": "",
            "zerolinecolor": "white"
           },
           "yaxis": {
            "backgroundcolor": "#E5ECF6",
            "gridcolor": "white",
            "gridwidth": 2,
            "linecolor": "white",
            "showbackground": true,
            "ticks": "",
            "zerolinecolor": "white"
           },
           "zaxis": {
            "backgroundcolor": "#E5ECF6",
            "gridcolor": "white",
            "gridwidth": 2,
            "linecolor": "white",
            "showbackground": true,
            "ticks": "",
            "zerolinecolor": "white"
           }
          },
          "shapedefaults": {
           "line": {
            "color": "#2a3f5f"
           }
          },
          "ternary": {
           "aaxis": {
            "gridcolor": "white",
            "linecolor": "white",
            "ticks": ""
           },
           "baxis": {
            "gridcolor": "white",
            "linecolor": "white",
            "ticks": ""
           },
           "bgcolor": "#E5ECF6",
           "caxis": {
            "gridcolor": "white",
            "linecolor": "white",
            "ticks": ""
           }
          },
          "title": {
           "x": 0.05
          },
          "xaxis": {
           "automargin": true,
           "gridcolor": "white",
           "linecolor": "white",
           "ticks": "",
           "title": {
            "standoff": 15
           },
           "zerolinecolor": "white",
           "zerolinewidth": 2
          },
          "yaxis": {
           "automargin": true,
           "gridcolor": "white",
           "linecolor": "white",
           "ticks": "",
           "title": {
            "standoff": 15
           },
           "zerolinecolor": "white",
           "zerolinewidth": 2
          }
         }
        },
        "title": {
         "text": "Correlation Matrix"
        },
        "xaxis": {
         "anchor": "y",
         "domain": [
          0,
          1
         ],
         "title": {
          "text": "Features"
         }
        },
        "yaxis": {
         "anchor": "x",
         "autorange": "reversed",
         "domain": [
          0,
          1
         ],
         "title": {
          "text": "Features"
         }
        }
       }
      }
     },
     "metadata": {},
     "output_type": "display_data"
    }
   ],
   "source": [
    "#plot correlation matrix with plotly imshow\n",
    "fig = px.imshow(df.corr(), text_auto=True, aspect=\"auto\", title='Correlation Matrix')\n",
    "fig.update_layout(xaxis_title='Features', yaxis_title='Features')\n",
    "fig.show()\n"
   ]
  },
  {
   "cell_type": "code",
   "execution_count": 30,
   "id": "032a6a88",
   "metadata": {},
   "outputs": [
    {
     "data": {
      "application/vnd.plotly.v1+json": {
       "config": {
        "plotlyServerURL": "https://plot.ly"
       },
       "data": [
        {
         "hovertemplate": "x=%{x}<br>y=%{y}<extra></extra>",
         "legendgroup": "",
         "line": {
          "color": "#636efa",
          "dash": "solid"
         },
         "marker": {
          "symbol": "circle"
         },
         "mode": "lines+markers",
         "name": "",
         "orientation": "v",
         "showlegend": false,
         "type": "scatter",
         "x": {
          "bdata": "AAECAwQFBgcICQoLDA0ODxAREhMUFRYXGBkaGxwdHh8gISIjJCUmJygpKissLS4vMDEyMzQ1Njc4OTo7PD0+P0BBQkNERUZHSElKS0xNTk9QUVJTVFVWV1hZWltcXV5fYGFiY2Q=",
          "dtype": "i1"
         },
         "xaxis": "x",
         "y": {
          "bdata": "AAAAAAAA8D+5ttzDIfvgP3UeVu/Ixsg/LCRxm5RD4j+jklcsXvjjP3m5jt91bNo/eRGb/54asz/uHhwK3SDlP8m86xY3seg/wjDh8HYVzT+8lZrb7NDVPycBGxwgcOI/xNp8KF+23z+CNh8feGjEP7/uayEgy9Q/Qyi8qrj04z8RYzHpO/XaP/5FmOQqH68/25wOtL362D9uQoxQuuXcP8z5VPHC39A/XsPz/FC1uD/HG7JK70naP56Fc8NVedo/Dr2RoMX2uj++aStH4KjLP02gQtnsiNU/yytVT4Jm0D9UeiXXSg+dPxjSot7Xwsw/7HTPaqQ41D/tKQqb2S7FPx2/RIwW87U/wt1eqbmHzT+RBXC+LLXJP0/SsJr/Na4/LY0s0BUWuz8RLD9uuD3JP57GQeyp9cI/tKRoiGcqiT+aajsJF0vCP5korBy9psI/O7br+ymvpj9cb8QZDqWvP/8TZ1Dp97s/x4b7a4letj+eH1aweVV9P4Ov7yBzObU/oX0EFaUPuT9ojTd8RjKZP7ldvYi7C7A/evs76Xausz8+Y3EJigGhP64ZqOAPnZI/EqR/kEJrrj/s/o1GZpuwPxLCpVNDZII/vTmZNqtTsT8BjV6SdD22P1K4Ov44z5Q/1qwyTtgfqj9DQrixN8yyPwx0QestyKs/dZwFsI6bbz/9rcFd/HuxPymR/bNpuLo/CXDbvbZKqT/flwsXePKpP/hfT/cyqbo/n6hWXsWYsz9cibs1q2SLP5weChcX5as/TdNFtmwavD8mG3qJGj64P83PzQZXzno/u0YUq9O+uT+7EYvWzoq+P3PSe2zcKaw/kGXY9q8vmj8OJdMCE+C3P7fB2bZTM8A/p6FvBpPGsD8MYa+pRsapPzw+mtac0L4/D7H+rPFwvT8pGrcFQKGnP4UuZ8trtqY/asqQDtHBvz+eFpqMWbLBP5lp770q6aM/rMYw81fFsj8uuypHL1y+P5vnNmPqKbw/OU1L/MnTsD//J9Z908GiPxqX4/fXjMQ/nZ7ZFtQnxD9VPNp2dRuXP15s5SswubQ/kiEQn01ivD8MLvjk7AG7Pw==",
          "dtype": "f8"
         },
         "yaxis": "y"
        }
       ],
       "layout": {
        "legend": {
         "tracegroupgap": 0
        },
        "template": {
         "data": {
          "bar": [
           {
            "error_x": {
             "color": "#2a3f5f"
            },
            "error_y": {
             "color": "#2a3f5f"
            },
            "marker": {
             "line": {
              "color": "#E5ECF6",
              "width": 0.5
             },
             "pattern": {
              "fillmode": "overlay",
              "size": 10,
              "solidity": 0.2
             }
            },
            "type": "bar"
           }
          ],
          "barpolar": [
           {
            "marker": {
             "line": {
              "color": "#E5ECF6",
              "width": 0.5
             },
             "pattern": {
              "fillmode": "overlay",
              "size": 10,
              "solidity": 0.2
             }
            },
            "type": "barpolar"
           }
          ],
          "carpet": [
           {
            "aaxis": {
             "endlinecolor": "#2a3f5f",
             "gridcolor": "white",
             "linecolor": "white",
             "minorgridcolor": "white",
             "startlinecolor": "#2a3f5f"
            },
            "baxis": {
             "endlinecolor": "#2a3f5f",
             "gridcolor": "white",
             "linecolor": "white",
             "minorgridcolor": "white",
             "startlinecolor": "#2a3f5f"
            },
            "type": "carpet"
           }
          ],
          "choropleth": [
           {
            "colorbar": {
             "outlinewidth": 0,
             "ticks": ""
            },
            "type": "choropleth"
           }
          ],
          "contour": [
           {
            "colorbar": {
             "outlinewidth": 0,
             "ticks": ""
            },
            "colorscale": [
             [
              0,
              "#0d0887"
             ],
             [
              0.1111111111111111,
              "#46039f"
             ],
             [
              0.2222222222222222,
              "#7201a8"
             ],
             [
              0.3333333333333333,
              "#9c179e"
             ],
             [
              0.4444444444444444,
              "#bd3786"
             ],
             [
              0.5555555555555556,
              "#d8576b"
             ],
             [
              0.6666666666666666,
              "#ed7953"
             ],
             [
              0.7777777777777778,
              "#fb9f3a"
             ],
             [
              0.8888888888888888,
              "#fdca26"
             ],
             [
              1,
              "#f0f921"
             ]
            ],
            "type": "contour"
           }
          ],
          "contourcarpet": [
           {
            "colorbar": {
             "outlinewidth": 0,
             "ticks": ""
            },
            "type": "contourcarpet"
           }
          ],
          "heatmap": [
           {
            "colorbar": {
             "outlinewidth": 0,
             "ticks": ""
            },
            "colorscale": [
             [
              0,
              "#0d0887"
             ],
             [
              0.1111111111111111,
              "#46039f"
             ],
             [
              0.2222222222222222,
              "#7201a8"
             ],
             [
              0.3333333333333333,
              "#9c179e"
             ],
             [
              0.4444444444444444,
              "#bd3786"
             ],
             [
              0.5555555555555556,
              "#d8576b"
             ],
             [
              0.6666666666666666,
              "#ed7953"
             ],
             [
              0.7777777777777778,
              "#fb9f3a"
             ],
             [
              0.8888888888888888,
              "#fdca26"
             ],
             [
              1,
              "#f0f921"
             ]
            ],
            "type": "heatmap"
           }
          ],
          "histogram": [
           {
            "marker": {
             "pattern": {
              "fillmode": "overlay",
              "size": 10,
              "solidity": 0.2
             }
            },
            "type": "histogram"
           }
          ],
          "histogram2d": [
           {
            "colorbar": {
             "outlinewidth": 0,
             "ticks": ""
            },
            "colorscale": [
             [
              0,
              "#0d0887"
             ],
             [
              0.1111111111111111,
              "#46039f"
             ],
             [
              0.2222222222222222,
              "#7201a8"
             ],
             [
              0.3333333333333333,
              "#9c179e"
             ],
             [
              0.4444444444444444,
              "#bd3786"
             ],
             [
              0.5555555555555556,
              "#d8576b"
             ],
             [
              0.6666666666666666,
              "#ed7953"
             ],
             [
              0.7777777777777778,
              "#fb9f3a"
             ],
             [
              0.8888888888888888,
              "#fdca26"
             ],
             [
              1,
              "#f0f921"
             ]
            ],
            "type": "histogram2d"
           }
          ],
          "histogram2dcontour": [
           {
            "colorbar": {
             "outlinewidth": 0,
             "ticks": ""
            },
            "colorscale": [
             [
              0,
              "#0d0887"
             ],
             [
              0.1111111111111111,
              "#46039f"
             ],
             [
              0.2222222222222222,
              "#7201a8"
             ],
             [
              0.3333333333333333,
              "#9c179e"
             ],
             [
              0.4444444444444444,
              "#bd3786"
             ],
             [
              0.5555555555555556,
              "#d8576b"
             ],
             [
              0.6666666666666666,
              "#ed7953"
             ],
             [
              0.7777777777777778,
              "#fb9f3a"
             ],
             [
              0.8888888888888888,
              "#fdca26"
             ],
             [
              1,
              "#f0f921"
             ]
            ],
            "type": "histogram2dcontour"
           }
          ],
          "mesh3d": [
           {
            "colorbar": {
             "outlinewidth": 0,
             "ticks": ""
            },
            "type": "mesh3d"
           }
          ],
          "parcoords": [
           {
            "line": {
             "colorbar": {
              "outlinewidth": 0,
              "ticks": ""
             }
            },
            "type": "parcoords"
           }
          ],
          "pie": [
           {
            "automargin": true,
            "type": "pie"
           }
          ],
          "scatter": [
           {
            "fillpattern": {
             "fillmode": "overlay",
             "size": 10,
             "solidity": 0.2
            },
            "type": "scatter"
           }
          ],
          "scatter3d": [
           {
            "line": {
             "colorbar": {
              "outlinewidth": 0,
              "ticks": ""
             }
            },
            "marker": {
             "colorbar": {
              "outlinewidth": 0,
              "ticks": ""
             }
            },
            "type": "scatter3d"
           }
          ],
          "scattercarpet": [
           {
            "marker": {
             "colorbar": {
              "outlinewidth": 0,
              "ticks": ""
             }
            },
            "type": "scattercarpet"
           }
          ],
          "scattergeo": [
           {
            "marker": {
             "colorbar": {
              "outlinewidth": 0,
              "ticks": ""
             }
            },
            "type": "scattergeo"
           }
          ],
          "scattergl": [
           {
            "marker": {
             "colorbar": {
              "outlinewidth": 0,
              "ticks": ""
             }
            },
            "type": "scattergl"
           }
          ],
          "scattermap": [
           {
            "marker": {
             "colorbar": {
              "outlinewidth": 0,
              "ticks": ""
             }
            },
            "type": "scattermap"
           }
          ],
          "scattermapbox": [
           {
            "marker": {
             "colorbar": {
              "outlinewidth": 0,
              "ticks": ""
             }
            },
            "type": "scattermapbox"
           }
          ],
          "scatterpolar": [
           {
            "marker": {
             "colorbar": {
              "outlinewidth": 0,
              "ticks": ""
             }
            },
            "type": "scatterpolar"
           }
          ],
          "scatterpolargl": [
           {
            "marker": {
             "colorbar": {
              "outlinewidth": 0,
              "ticks": ""
             }
            },
            "type": "scatterpolargl"
           }
          ],
          "scatterternary": [
           {
            "marker": {
             "colorbar": {
              "outlinewidth": 0,
              "ticks": ""
             }
            },
            "type": "scatterternary"
           }
          ],
          "surface": [
           {
            "colorbar": {
             "outlinewidth": 0,
             "ticks": ""
            },
            "colorscale": [
             [
              0,
              "#0d0887"
             ],
             [
              0.1111111111111111,
              "#46039f"
             ],
             [
              0.2222222222222222,
              "#7201a8"
             ],
             [
              0.3333333333333333,
              "#9c179e"
             ],
             [
              0.4444444444444444,
              "#bd3786"
             ],
             [
              0.5555555555555556,
              "#d8576b"
             ],
             [
              0.6666666666666666,
              "#ed7953"
             ],
             [
              0.7777777777777778,
              "#fb9f3a"
             ],
             [
              0.8888888888888888,
              "#fdca26"
             ],
             [
              1,
              "#f0f921"
             ]
            ],
            "type": "surface"
           }
          ],
          "table": [
           {
            "cells": {
             "fill": {
              "color": "#EBF0F8"
             },
             "line": {
              "color": "white"
             }
            },
            "header": {
             "fill": {
              "color": "#C8D4E3"
             },
             "line": {
              "color": "white"
             }
            },
            "type": "table"
           }
          ]
         },
         "layout": {
          "annotationdefaults": {
           "arrowcolor": "#2a3f5f",
           "arrowhead": 0,
           "arrowwidth": 1
          },
          "autotypenumbers": "strict",
          "coloraxis": {
           "colorbar": {
            "outlinewidth": 0,
            "ticks": ""
           }
          },
          "colorscale": {
           "diverging": [
            [
             0,
             "#8e0152"
            ],
            [
             0.1,
             "#c51b7d"
            ],
            [
             0.2,
             "#de77ae"
            ],
            [
             0.3,
             "#f1b6da"
            ],
            [
             0.4,
             "#fde0ef"
            ],
            [
             0.5,
             "#f7f7f7"
            ],
            [
             0.6,
             "#e6f5d0"
            ],
            [
             0.7,
             "#b8e186"
            ],
            [
             0.8,
             "#7fbc41"
            ],
            [
             0.9,
             "#4d9221"
            ],
            [
             1,
             "#276419"
            ]
           ],
           "sequential": [
            [
             0,
             "#0d0887"
            ],
            [
             0.1111111111111111,
             "#46039f"
            ],
            [
             0.2222222222222222,
             "#7201a8"
            ],
            [
             0.3333333333333333,
             "#9c179e"
            ],
            [
             0.4444444444444444,
             "#bd3786"
            ],
            [
             0.5555555555555556,
             "#d8576b"
            ],
            [
             0.6666666666666666,
             "#ed7953"
            ],
            [
             0.7777777777777778,
             "#fb9f3a"
            ],
            [
             0.8888888888888888,
             "#fdca26"
            ],
            [
             1,
             "#f0f921"
            ]
           ],
           "sequentialminus": [
            [
             0,
             "#0d0887"
            ],
            [
             0.1111111111111111,
             "#46039f"
            ],
            [
             0.2222222222222222,
             "#7201a8"
            ],
            [
             0.3333333333333333,
             "#9c179e"
            ],
            [
             0.4444444444444444,
             "#bd3786"
            ],
            [
             0.5555555555555556,
             "#d8576b"
            ],
            [
             0.6666666666666666,
             "#ed7953"
            ],
            [
             0.7777777777777778,
             "#fb9f3a"
            ],
            [
             0.8888888888888888,
             "#fdca26"
            ],
            [
             1,
             "#f0f921"
            ]
           ]
          },
          "colorway": [
           "#636efa",
           "#EF553B",
           "#00cc96",
           "#ab63fa",
           "#FFA15A",
           "#19d3f3",
           "#FF6692",
           "#B6E880",
           "#FF97FF",
           "#FECB52"
          ],
          "font": {
           "color": "#2a3f5f"
          },
          "geo": {
           "bgcolor": "white",
           "lakecolor": "white",
           "landcolor": "#E5ECF6",
           "showlakes": true,
           "showland": true,
           "subunitcolor": "white"
          },
          "hoverlabel": {
           "align": "left"
          },
          "hovermode": "closest",
          "mapbox": {
           "style": "light"
          },
          "paper_bgcolor": "white",
          "plot_bgcolor": "#E5ECF6",
          "polar": {
           "angularaxis": {
            "gridcolor": "white",
            "linecolor": "white",
            "ticks": ""
           },
           "bgcolor": "#E5ECF6",
           "radialaxis": {
            "gridcolor": "white",
            "linecolor": "white",
            "ticks": ""
           }
          },
          "scene": {
           "xaxis": {
            "backgroundcolor": "#E5ECF6",
            "gridcolor": "white",
            "gridwidth": 2,
            "linecolor": "white",
            "showbackground": true,
            "ticks": "",
            "zerolinecolor": "white"
           },
           "yaxis": {
            "backgroundcolor": "#E5ECF6",
            "gridcolor": "white",
            "gridwidth": 2,
            "linecolor": "white",
            "showbackground": true,
            "ticks": "",
            "zerolinecolor": "white"
           },
           "zaxis": {
            "backgroundcolor": "#E5ECF6",
            "gridcolor": "white",
            "gridwidth": 2,
            "linecolor": "white",
            "showbackground": true,
            "ticks": "",
            "zerolinecolor": "white"
           }
          },
          "shapedefaults": {
           "line": {
            "color": "#2a3f5f"
           }
          },
          "ternary": {
           "aaxis": {
            "gridcolor": "white",
            "linecolor": "white",
            "ticks": ""
           },
           "baxis": {
            "gridcolor": "white",
            "linecolor": "white",
            "ticks": ""
           },
           "bgcolor": "#E5ECF6",
           "caxis": {
            "gridcolor": "white",
            "linecolor": "white",
            "ticks": ""
           }
          },
          "title": {
           "x": 0.05
          },
          "xaxis": {
           "automargin": true,
           "gridcolor": "white",
           "linecolor": "white",
           "ticks": "",
           "title": {
            "standoff": 15
           },
           "zerolinecolor": "white",
           "zerolinewidth": 2
          },
          "yaxis": {
           "automargin": true,
           "gridcolor": "white",
           "linecolor": "white",
           "ticks": "",
           "title": {
            "standoff": 15
           },
           "zerolinecolor": "white",
           "zerolinewidth": 2
          }
         }
        },
        "title": {
         "text": "Lag Importance"
        },
        "xaxis": {
         "anchor": "y",
         "domain": [
          0,
          1
         ],
         "title": {
          "text": "Lag"
         }
        },
        "yaxis": {
         "anchor": "x",
         "domain": [
          0,
          1
         ],
         "title": {
          "text": "Absolute Correlation w.r.t. Label"
         }
        }
       }
      }
     },
     "metadata": {},
     "output_type": "display_data"
    }
   ],
   "source": [
    "absolute_correlation = df.corr()['label'].abs().tolist()\n",
    "# plot the importance of the lags with plotly line plot\n",
    "fig = px.line(y=absolute_correlation, x=range(len(absolute_correlation)), title='Lag Importance')\n",
    "fig.update_layout(xaxis_title='Lag', yaxis_title='Absolute Correlation w.r.t. Label')\n",
    "fig.update_traces(mode='lines+markers')\n",
    "fig.show()\n",
    "\n"
   ]
  },
  {
   "cell_type": "code",
   "execution_count": null,
   "id": "380ac21d",
   "metadata": {},
   "outputs": [],
   "source": []
  }
 ],
 "metadata": {
  "kernelspec": {
   "display_name": "Python 3",
   "language": "python",
   "name": "python3"
  },
  "language_info": {
   "codemirror_mode": {
    "name": "ipython",
    "version": 3
   },
   "file_extension": ".py",
   "mimetype": "text/x-python",
   "name": "python",
   "nbconvert_exporter": "python",
   "pygments_lexer": "ipython3",
   "version": "3.11.9"
  }
 },
 "nbformat": 4,
 "nbformat_minor": 5
}
