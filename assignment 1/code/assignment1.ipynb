{
 "cells": [
  {
   "cell_type": "code",
   "execution_count": 1,
   "id": "89fd6b44",
   "metadata": {},
   "outputs": [],
   "source": [
    "import scipy\n",
    "matlab = scipy.io.loadmat('Xtrain.mat')"
   ]
  },
  {
   "cell_type": "code",
   "execution_count": 2,
   "id": "8dba20c5",
   "metadata": {},
   "outputs": [],
   "source": [
    "X_train = matlab['Xtrain']"
   ]
  },
  {
   "cell_type": "code",
   "execution_count": 3,
   "id": "f9037af3",
   "metadata": {},
   "outputs": [],
   "source": [
    "import plotly.express as px\n",
    "import plotly.graph_objects as go"
   ]
  },
  {
   "cell_type": "code",
   "execution_count": null,
   "id": "0d881557",
   "metadata": {},
   "outputs": [],
   "source": [
    "# Convert the data to a list\n",
    "X_train_list = X_train.flatten().tolist()\n",
    "print(X_train_list)\n",
    "\n",
    "# Plot a line of the values in the training set\n",
    "fig = px.line(y=X_train_list, x=range(len(X_train_list)), title='Line Plot of X_train Values')\n",
    "fig.update_layout(xaxis_title='Index', yaxis_title='Value') \n",
    "fig.show()"
   ]
  },
  {
   "cell_type": "code",
   "execution_count": 5,
   "id": "9c473b87",
   "metadata": {},
   "outputs": [],
   "source": [
    "import pandas as pd"
   ]
  },
  {
   "cell_type": "code",
   "execution_count": 6,
   "id": "48202aab",
   "metadata": {},
   "outputs": [],
   "source": [
    "df = pd.DataFrame(X_train_list, columns=['label'])"
   ]
  },
  {
   "cell_type": "code",
   "execution_count": null,
   "id": "01813797",
   "metadata": {},
   "outputs": [],
   "source": [
    "df"
   ]
  },
  {
   "cell_type": "code",
   "execution_count": null,
   "id": "d66e0144",
   "metadata": {},
   "outputs": [],
   "source": [
    "n_lags = 100\n",
    "for i in range(1, n_lags + 1):\n",
    "    df[f'lag {i}'] = df['label'].shift(i)"
   ]
  },
  {
   "cell_type": "code",
   "execution_count": null,
   "id": "febbe68a",
   "metadata": {},
   "outputs": [],
   "source": [
    "df.dropna(inplace=True)\n",
    "df"
   ]
  },
  {
   "cell_type": "code",
   "execution_count": null,
   "id": "28b00fc0",
   "metadata": {},
   "outputs": [],
   "source": [
    "#plot correlation matrix with plotly imshow\n",
    "fig = px.imshow(df.corr(), text_auto=True, aspect=\"auto\", title='Correlation Matrix')\n",
    "fig.update_layout(xaxis_title='Features', yaxis_title='Features')\n",
    "fig.show()\n"
   ]
  },
  {
   "cell_type": "code",
   "execution_count": null,
   "id": "032a6a88",
   "metadata": {},
   "outputs": [],
   "source": [
    "absolute_correlation = df.corr()['label'].abs().tolist()\n",
    "# plot the importance of the lags with plotly line plot\n",
    "fig = px.line(y=absolute_correlation, x=range(len(absolute_correlation)), title='Lag Importance')\n",
    "fig.update_layout(xaxis_title='Lag', yaxis_title='Absolute Correlation w.r.t. Label')\n",
    "fig.update_traces(mode='lines+markers')\n",
    "fig.show()\n",
    "\n"
   ]
  }
 ],
 "metadata": {
  "kernelspec": {
   "display_name": "Python 3",
   "language": "python",
   "name": "python3"
  },
  "language_info": {
   "codemirror_mode": {
    "name": "ipython",
    "version": 3
   },
   "file_extension": ".py",
   "mimetype": "text/x-python",
   "name": "python",
   "nbconvert_exporter": "python",
   "pygments_lexer": "ipython3",
   "version": "3.12.3"
  }
 },
 "nbformat": 4,
 "nbformat_minor": 5
}
